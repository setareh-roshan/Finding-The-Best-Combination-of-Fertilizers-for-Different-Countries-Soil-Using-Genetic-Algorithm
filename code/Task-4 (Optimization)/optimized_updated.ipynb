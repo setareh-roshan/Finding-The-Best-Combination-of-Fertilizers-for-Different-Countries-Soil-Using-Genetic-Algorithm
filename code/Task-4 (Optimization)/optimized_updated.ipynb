{
 "cells": [
  {
   "cell_type": "code",
   "execution_count": 1,
   "metadata": {},
   "outputs": [],
   "source": [
    "import numpy as np\n",
    "from deap import base\n",
    "from deap import creator\n",
    "from deap import tools\n",
    "import random\n",
    "import pandas as pd\n",
    "from deap import algorithms\n"
   ]
  },
  {
   "cell_type": "markdown",
   "metadata": {},
   "source": [
    "# Reading From Excel File"
   ]
  },
  {
   "cell_type": "code",
   "execution_count": 2,
   "metadata": {},
   "outputs": [],
   "source": [
    "df = pd.read_excel(r\"C:\\Users\\mcf\\OneDrive\\Desktop\\Availability (1).xlsx\")"
   ]
  },
  {
   "cell_type": "code",
   "execution_count": 3,
   "metadata": {},
   "outputs": [],
   "source": [
    "samples = np.asarray(df)"
   ]
  },
  {
   "cell_type": "code",
   "execution_count": 4,
   "metadata": {},
   "outputs": [
    {
     "data": {
      "text/html": [
       "<div>\n",
       "<style scoped>\n",
       "    .dataframe tbody tr th:only-of-type {\n",
       "        vertical-align: middle;\n",
       "    }\n",
       "\n",
       "    .dataframe tbody tr th {\n",
       "        vertical-align: top;\n",
       "    }\n",
       "\n",
       "    .dataframe thead th {\n",
       "        text-align: right;\n",
       "    }\n",
       "</style>\n",
       "<table border=\"1\" class=\"dataframe\">\n",
       "  <thead>\n",
       "    <tr style=\"text-align: right;\">\n",
       "      <th></th>\n",
       "      <th>country</th>\n",
       "      <th>Fertilizers</th>\n",
       "      <th>Import&amp;Product</th>\n",
       "      <th>Export</th>\n",
       "      <th>Availability</th>\n",
       "      <th>Use</th>\n",
       "      <th>x</th>\n",
       "    </tr>\n",
       "  </thead>\n",
       "  <tbody>\n",
       "    <tr>\n",
       "      <th>0</th>\n",
       "      <td>Brazil</td>\n",
       "      <td>Ammonia, anhydrous</td>\n",
       "      <td>24144572.05</td>\n",
       "      <td>399156.28</td>\n",
       "      <td>23745415.77</td>\n",
       "      <td>2571549.00</td>\n",
       "      <td>5931.614778</td>\n",
       "    </tr>\n",
       "    <tr>\n",
       "      <th>1</th>\n",
       "      <td>Brazil</td>\n",
       "      <td>Ammonium nitrate (AN)</td>\n",
       "      <td>21546416.92</td>\n",
       "      <td>214625.65</td>\n",
       "      <td>21331791.27</td>\n",
       "      <td>13821890.37</td>\n",
       "      <td>31882.001541</td>\n",
       "    </tr>\n",
       "    <tr>\n",
       "      <th>2</th>\n",
       "      <td>Brazil</td>\n",
       "      <td>Ammonium sulphate</td>\n",
       "      <td>30988444.53</td>\n",
       "      <td>53840.25</td>\n",
       "      <td>30934604.28</td>\n",
       "      <td>22805149.59</td>\n",
       "      <td>52603.066217</td>\n",
       "    </tr>\n",
       "    <tr>\n",
       "      <th>3</th>\n",
       "      <td>Brazil</td>\n",
       "      <td>Calcium ammonium nitrate (CAN) and other mixtu...</td>\n",
       "      <td>2020987.02</td>\n",
       "      <td>10844.03</td>\n",
       "      <td>2010142.99</td>\n",
       "      <td>1164236.84</td>\n",
       "      <td>2685.464848</td>\n",
       "    </tr>\n",
       "    <tr>\n",
       "      <th>4</th>\n",
       "      <td>Brazil</td>\n",
       "      <td>Diammonium phosphate (DAP)</td>\n",
       "      <td>6948831.81</td>\n",
       "      <td>148854.13</td>\n",
       "      <td>6799977.68</td>\n",
       "      <td>4846157.53</td>\n",
       "      <td>11178.297447</td>\n",
       "    </tr>\n",
       "    <tr>\n",
       "      <th>...</th>\n",
       "      <td>...</td>\n",
       "      <td>...</td>\n",
       "      <td>...</td>\n",
       "      <td>...</td>\n",
       "      <td>...</td>\n",
       "      <td>...</td>\n",
       "      <td>...</td>\n",
       "    </tr>\n",
       "    <tr>\n",
       "      <th>110</th>\n",
       "      <td>Mexico</td>\n",
       "      <td>Sodium nitrate</td>\n",
       "      <td>32779.02</td>\n",
       "      <td>1030.91</td>\n",
       "      <td>31748.11</td>\n",
       "      <td>0.00</td>\n",
       "      <td>0.000000</td>\n",
       "    </tr>\n",
       "    <tr>\n",
       "      <th>111</th>\n",
       "      <td>Mexico</td>\n",
       "      <td>Superphosphates above 35%</td>\n",
       "      <td>622825.23</td>\n",
       "      <td>2467787.77</td>\n",
       "      <td>-1844962.54</td>\n",
       "      <td>811919.38</td>\n",
       "      <td>1699.959390</td>\n",
       "    </tr>\n",
       "    <tr>\n",
       "      <th>112</th>\n",
       "      <td>Mexico</td>\n",
       "      <td>Superphosphates, other</td>\n",
       "      <td>0.00</td>\n",
       "      <td>0.00</td>\n",
       "      <td>0.00</td>\n",
       "      <td>21682383.00</td>\n",
       "      <td>45397.574551</td>\n",
       "    </tr>\n",
       "    <tr>\n",
       "      <th>113</th>\n",
       "      <td>Mexico</td>\n",
       "      <td>Urea</td>\n",
       "      <td>21917270.86</td>\n",
       "      <td>303460.75</td>\n",
       "      <td>21613810.11</td>\n",
       "      <td>8931655.72</td>\n",
       "      <td>18700.689238</td>\n",
       "    </tr>\n",
       "    <tr>\n",
       "      <th>114</th>\n",
       "      <td>Mexico</td>\n",
       "      <td>Urea and ammonium nitrate solutions (UAN)</td>\n",
       "      <td>1028338.92</td>\n",
       "      <td>46263.77</td>\n",
       "      <td>982075.15</td>\n",
       "      <td>305737.70</td>\n",
       "      <td>640.139510</td>\n",
       "    </tr>\n",
       "  </tbody>\n",
       "</table>\n",
       "<p>115 rows × 7 columns</p>\n",
       "</div>"
      ],
      "text/plain": [
       "    country                                        Fertilizers  \\\n",
       "0    Brazil                                 Ammonia, anhydrous   \n",
       "1    Brazil                              Ammonium nitrate (AN)   \n",
       "2    Brazil                                  Ammonium sulphate   \n",
       "3    Brazil  Calcium ammonium nitrate (CAN) and other mixtu...   \n",
       "4    Brazil                         Diammonium phosphate (DAP)   \n",
       "..      ...                                                ...   \n",
       "110  Mexico                                     Sodium nitrate   \n",
       "111  Mexico                          Superphosphates above 35%   \n",
       "112  Mexico                             Superphosphates, other   \n",
       "113  Mexico                                               Urea   \n",
       "114  Mexico          Urea and ammonium nitrate solutions (UAN)   \n",
       "\n",
       "     Import&Product      Export  Availability          Use             x  \n",
       "0       24144572.05   399156.28   23745415.77   2571549.00   5931.614778  \n",
       "1       21546416.92   214625.65   21331791.27  13821890.37  31882.001541  \n",
       "2       30988444.53    53840.25   30934604.28  22805149.59  52603.066217  \n",
       "3        2020987.02    10844.03    2010142.99   1164236.84   2685.464848  \n",
       "4        6948831.81   148854.13    6799977.68   4846157.53  11178.297447  \n",
       "..              ...         ...           ...          ...           ...  \n",
       "110        32779.02     1030.91      31748.11         0.00      0.000000  \n",
       "111       622825.23  2467787.77   -1844962.54    811919.38   1699.959390  \n",
       "112            0.00        0.00          0.00  21682383.00  45397.574551  \n",
       "113     21917270.86   303460.75   21613810.11   8931655.72  18700.689238  \n",
       "114      1028338.92    46263.77     982075.15    305737.70    640.139510  \n",
       "\n",
       "[115 rows x 7 columns]"
      ]
     },
     "execution_count": 4,
     "metadata": {},
     "output_type": "execute_result"
    }
   ],
   "source": [
    "df"
   ]
  },
  {
   "cell_type": "markdown",
   "metadata": {},
   "source": [
    "#### In this part we will convert the fertalize names and country names to numbers"
   ]
  },
  {
   "cell_type": "code",
   "execution_count": 5,
   "metadata": {},
   "outputs": [],
   "source": [
    "country = pd.factorize(df['country'])[0]\n",
    "fert = pd.factorize(df['Fertilizers'])[0]"
   ]
  },
  {
   "cell_type": "code",
   "execution_count": 6,
   "metadata": {},
   "outputs": [],
   "source": [
    "samples[:,0] = country\n",
    "samples[:,1] = fert"
   ]
  },
  {
   "cell_type": "code",
   "execution_count": 7,
   "metadata": {},
   "outputs": [
    {
     "data": {
      "text/plain": [
       "(115, 7)"
      ]
     },
     "execution_count": 7,
     "metadata": {},
     "output_type": "execute_result"
    }
   ],
   "source": [
    "samples.shape"
   ]
  },
  {
   "cell_type": "markdown",
   "metadata": {},
   "source": [
    "# EC Code\n",
    "#### in this part we will use availability and production as a fitness functions per country"
   ]
  },
  {
   "cell_type": "code",
   "execution_count": 8,
   "metadata": {},
   "outputs": [],
   "source": [
    "creator.create(\"Fitness\", base.Fitness, weights = (1.0,))\n",
    "creator.create(\"Individual\", np.ndarray, fitness = creator.Fitness)"
   ]
  },
  {
   "cell_type": "code",
   "execution_count": 9,
   "metadata": {},
   "outputs": [],
   "source": [
    "IND_SIZE = 22\n",
    "toolbox = base.Toolbox()\n",
    "toolbox.register(\"indices\", random.sample, range(IND_SIZE), IND_SIZE)\n",
    "toolbox.register(\"individual\", tools.initIterate, creator.Individual, toolbox.indices)\n",
    "toolbox.register(\"population\", tools.initRepeat, list, toolbox.individual)"
   ]
  },
  {
   "cell_type": "code",
   "execution_count": 10,
   "metadata": {},
   "outputs": [],
   "source": [
    "def evaluation (individual):\n",
    "    result1 = 0\n",
    "    result2 = 0\n",
    "    for i in range (22):\n",
    "        temp = individual[i]\n",
    "        for j in range (115):\n",
    "            if samples [j,0] == 4 and samples [j,1] == individual[i]:\n",
    "                result1 += samples[j,4] * (23 - i)\n",
    "                result2 += samples[j,6] * (23 - i)\n",
    "    return (result1 + result2),"
   ]
  },
  {
   "cell_type": "code",
   "execution_count": 19,
   "metadata": {},
   "outputs": [],
   "source": [
    "def mutInv (individual):\n",
    "    index1 = random.randint(0,12)\n",
    "    index2 = random.randint(13,21)\n",
    "    for i in range(index1, index2):\n",
    "        temp = individual[i]\n",
    "        individual[i] = individual[index2-i]\n",
    "        individual[index2-i] = temp\n",
    "    return individual"
   ]
  },
  {
   "cell_type": "code",
   "execution_count": 27,
   "metadata": {},
   "outputs": [],
   "source": [
    "toolbox.register(\"evaluate\", evaluation)\n",
    "toolbox.register(\"cx_pm\", tools.cxPartialyMatched)\n",
    "toolbox.register(\"cx_onepoint\", tools.cxOnePoint)\n",
    "toolbox.register(\"cx_twopoint\", tools.cxTwoPoint)\n",
    "toolbox.register(\"mut_shuffle\", tools.mutShuffleIndexes)\n",
    "toolbox.register(\"mut_inverse\", mutInv)\n",
    "# indpb = random.randint(0,10)/10)\n",
    "#toolbox.register(\"select\", tools.selTournament, tournsize = 10)\n",
    "toolbox.register(\"sel_roulette\", tools.selRoulette)\n",
    "toolbox.register(\"sel_best\", tools.selBest)\n",
    "toolbox.register(\"sel_worst\", tools.selWorst)\n",
    "toolbox.register(\"sel_random\", tools.selRandom)\n"
   ]
  },
  {
   "cell_type": "code",
   "execution_count": 28,
   "metadata": {},
   "outputs": [],
   "source": [
    "\n",
    "def main (selection, CX, mutation, CXPB, MUTPB, tsize, popul):\n",
    "    res= np.zeros (200)\n",
    "    toolbox.register(\"sel_trnmnt\", tools.selTournament, tournsize = tsize)\n",
    "    pop = toolbox.population(n = popul)\n",
    "    fitnesses = list (map (toolbox.evaluate, pop))\n",
    "    for ind, fit in zip(pop, fitnesses):\n",
    "        ind.fitness.values = fit\n",
    "    #CXPB, MUTPB = 0.8, 0.8\n",
    "    fits = [ind.fitness.values[0] for ind in pop]\n",
    "    g = 0\n",
    "    while g < 200:\n",
    "        \n",
    "        #print ('--Generation %i---' %g)\n",
    "        if selection == 'trnmnt':\n",
    "            offspring = toolbox.sel_trnmnt(pop, len(pop))\n",
    "        elif selection == 'roulette':\n",
    "            offspring = toolbox.sel_roulette(pop, len(pop))\n",
    "        elif selection == 'best':\n",
    "            offspring = toolbox.sel_best(pop, len(pop))\n",
    "        elif selection == 'worst':\n",
    "            offspring = toolbox.sel_worst(pop, len(pop))\n",
    "        elif selection == 'random':\n",
    "            offspring = toolbox.sel_random(pop, len(pop))\n",
    "        \n",
    "        #toolbox.clone() method ensure that we don’t use a reference to the individuals but an completely independent instance.\n",
    "        offspring = list(map(toolbox.clone, offspring))\n",
    "                # Apply crossover and mutation on the offspring\n",
    "        for child1, child2 in zip(offspring[::2], offspring[1::2]):\n",
    "            if random.random() < CXPB:\n",
    "                if CX == 'onepoint':\n",
    "                    toolbox.cx_onepoint(child1, child2)\n",
    "                elif CX == 'twopoint':\n",
    "                    toolbox.cx_twopoint(child1, child2)\n",
    "                elif CX == 'pmx':\n",
    "                    toolbox.cx_pm(child1, child2)\n",
    "                del child1.fitness.values\n",
    "                del child2.fitness.values\n",
    "\n",
    "        for mutant in offspring:\n",
    "            if random.random() < MUTPB:\n",
    "                if mutation == 'shuffle':\n",
    "                    toolbox.mut_shuffle(mutant, random.random())\n",
    "                elif mutation == 'inverse':\n",
    "                    toolbox.mut_inverse(mutant)\n",
    "                del mutant.fitness.values\n",
    "        invalid_ind = [ind for ind in offspring if not ind.fitness.valid]\n",
    "        fitnesses = map(toolbox.evaluate, invalid_ind)\n",
    "        for ind, fit in zip(invalid_ind, fitnesses):\n",
    "            ind.fitness.values = fit\n",
    "        pop[:] = offspring\n",
    "        fits = [ind.fitness.values[0] for ind in pop]\n",
    "        \n",
    "        length = len(pop)\n",
    "        mean = sum(fits) / length\n",
    "        sum2 = sum(x*x for x in fits)\n",
    "        std = abs(sum2 / length - mean**2)**0.5\n",
    "        \n",
    "       # print(\"  Min %s\" % min(fits))\n",
    "       # print(\"  Max %s\" % max(fits))\n",
    "       # print(\"  Avg %s\" % mean)\n",
    "       # print(\"  Std %s\" % std)\n",
    "        res[g] = max(fits)\n",
    "        g = g + 1\n",
    "    ind = max(fits)\n",
    "   # print (ind)\n",
    "    # you can choose haow many best individuals wanna see by k\n",
    "    winner = tools.selBest(pop, k = 1)\n",
    "    return res, winner"
   ]
  },
  {
   "cell_type": "code",
   "execution_count": 30,
   "metadata": {},
   "outputs": [],
   "source": [
    "Selectlist = ['trnmnt', 'roulette', 'best', 'worst', 'random']\n",
    "CXlist = ['onepoint', 'twopoint', 'pmx']\n",
    "mut = ['shuffle', 'inverse']"
   ]
  },
  {
   "cell_type": "code",
   "execution_count": 32,
   "metadata": {},
   "outputs": [],
   "source": [
    "mbf = np.zeros(50)\n",
    "Meta_GA = np.zeros(350).reshape(50,7)\n",
    "for i in range (50):\n",
    "    Meta_GA[i,1] = random.randint(0,10)/10 #crossover\n",
    "    Meta_GA[i,0] = random.randint(0,10)/10 #mutation\n",
    "    Meta_GA[i,2] = random.randint(1,100) #tournment size\n",
    "    Meta_GA[i,3] = random.randint(100,200)#population\n",
    "    Meta_GA[i,4] = random.randint(0,4)#selection\n",
    "    Meta_GA[i,5] = random.randint(0,2)#crossover\n",
    "    Meta_GA[i,6] = random.randint(0,1)#mutation\n",
    "    res, win = main (Selectlist[int(Meta_GA[i,4])], CXlist[int(Meta_GA[i,5])],mut[int(Meta_GA[i,6])]\n",
    "                     ,Meta_GA[i,0], Meta_GA[i,1], int(Meta_GA[i,2]), int(Meta_GA[i,3]))\n",
    "    #main (selection, CX, mutation, CXPB, MUTPB, tsize, popul)\n",
    "    mbf[i] = np.mean(res, axis = None)"
   ]
  },
  {
   "cell_type": "code",
   "execution_count": 53,
   "metadata": {},
   "outputs": [
    {
     "data": {
      "text/plain": [
       "array([[5.00e-01, 7.00e-01, 2.20e+01, 1.09e+02, 4.00e+00, 1.00e+00,\n",
       "        1.00e+00],\n",
       "       [1.00e-01, 1.00e-01, 6.00e+00, 1.85e+02, 0.00e+00, 1.00e+00,\n",
       "        0.00e+00],\n",
       "       [1.00e+00, 7.00e-01, 5.00e+00, 1.58e+02, 2.00e+00, 1.00e+00,\n",
       "        0.00e+00],\n",
       "       [6.00e-01, 2.00e-01, 5.40e+01, 1.23e+02, 0.00e+00, 0.00e+00,\n",
       "        0.00e+00],\n",
       "       [5.00e-01, 5.00e-01, 1.00e+00, 1.06e+02, 2.00e+00, 1.00e+00,\n",
       "        0.00e+00],\n",
       "       [6.00e-01, 1.00e+00, 1.40e+01, 1.15e+02, 3.00e+00, 1.00e+00,\n",
       "        1.00e+00],\n",
       "       [7.00e-01, 0.00e+00, 1.00e+02, 1.39e+02, 0.00e+00, 2.00e+00,\n",
       "        1.00e+00],\n",
       "       [5.00e-01, 6.00e-01, 4.00e+01, 1.11e+02, 3.00e+00, 1.00e+00,\n",
       "        1.00e+00],\n",
       "       [0.00e+00, 7.00e-01, 2.00e+01, 1.73e+02, 0.00e+00, 0.00e+00,\n",
       "        0.00e+00],\n",
       "       [5.00e-01, 7.00e-01, 4.70e+01, 1.86e+02, 4.00e+00, 0.00e+00,\n",
       "        0.00e+00],\n",
       "       [1.00e+00, 2.00e-01, 2.80e+01, 1.95e+02, 3.00e+00, 1.00e+00,\n",
       "        1.00e+00],\n",
       "       [5.00e-01, 0.00e+00, 7.20e+01, 1.18e+02, 4.00e+00, 1.00e+00,\n",
       "        1.00e+00],\n",
       "       [8.00e-01, 8.00e-01, 1.00e+01, 2.00e+02, 2.00e+00, 1.00e+00,\n",
       "        0.00e+00],\n",
       "       [8.00e-01, 1.00e-01, 9.90e+01, 1.56e+02, 0.00e+00, 2.00e+00,\n",
       "        1.00e+00],\n",
       "       [8.00e-01, 7.00e-01, 6.30e+01, 1.32e+02, 0.00e+00, 1.00e+00,\n",
       "        1.00e+00],\n",
       "       [3.00e-01, 1.00e-01, 5.00e+00, 1.17e+02, 4.00e+00, 0.00e+00,\n",
       "        1.00e+00],\n",
       "       [6.00e-01, 5.00e-01, 4.80e+01, 1.48e+02, 0.00e+00, 0.00e+00,\n",
       "        1.00e+00],\n",
       "       [0.00e+00, 6.00e-01, 1.50e+01, 1.96e+02, 2.00e+00, 2.00e+00,\n",
       "        1.00e+00],\n",
       "       [9.00e-01, 0.00e+00, 2.00e+01, 1.23e+02, 1.00e+00, 1.00e+00,\n",
       "        0.00e+00],\n",
       "       [4.00e-01, 6.00e-01, 2.40e+01, 1.78e+02, 1.00e+00, 2.00e+00,\n",
       "        0.00e+00],\n",
       "       [9.00e-01, 1.00e+00, 7.50e+01, 1.80e+02, 0.00e+00, 0.00e+00,\n",
       "        0.00e+00],\n",
       "       [1.00e+00, 4.00e-01, 2.90e+01, 1.63e+02, 4.00e+00, 1.00e+00,\n",
       "        1.00e+00],\n",
       "       [8.00e-01, 1.00e-01, 5.50e+01, 1.44e+02, 3.00e+00, 0.00e+00,\n",
       "        1.00e+00],\n",
       "       [3.00e-01, 7.00e-01, 7.10e+01, 1.15e+02, 4.00e+00, 0.00e+00,\n",
       "        0.00e+00],\n",
       "       [6.00e-01, 8.00e-01, 3.20e+01, 1.46e+02, 4.00e+00, 2.00e+00,\n",
       "        0.00e+00],\n",
       "       [3.00e-01, 2.00e-01, 1.00e+01, 1.09e+02, 3.00e+00, 1.00e+00,\n",
       "        0.00e+00],\n",
       "       [0.00e+00, 2.00e-01, 4.70e+01, 1.04e+02, 1.00e+00, 1.00e+00,\n",
       "        0.00e+00],\n",
       "       [0.00e+00, 8.00e-01, 1.00e+01, 1.48e+02, 4.00e+00, 1.00e+00,\n",
       "        1.00e+00],\n",
       "       [5.00e-01, 2.00e-01, 3.40e+01, 1.10e+02, 4.00e+00, 0.00e+00,\n",
       "        0.00e+00],\n",
       "       [3.00e-01, 8.00e-01, 1.10e+01, 1.78e+02, 0.00e+00, 0.00e+00,\n",
       "        0.00e+00],\n",
       "       [8.00e-01, 1.00e-01, 4.50e+01, 1.83e+02, 1.00e+00, 0.00e+00,\n",
       "        0.00e+00],\n",
       "       [6.00e-01, 9.00e-01, 1.50e+01, 1.67e+02, 2.00e+00, 2.00e+00,\n",
       "        1.00e+00],\n",
       "       [6.00e-01, 0.00e+00, 6.50e+01, 1.84e+02, 4.00e+00, 1.00e+00,\n",
       "        0.00e+00],\n",
       "       [3.00e-01, 7.00e-01, 4.90e+01, 1.03e+02, 1.00e+00, 1.00e+00,\n",
       "        0.00e+00],\n",
       "       [8.00e-01, 8.00e-01, 2.80e+01, 1.42e+02, 3.00e+00, 2.00e+00,\n",
       "        1.00e+00],\n",
       "       [9.00e-01, 2.00e-01, 9.00e+01, 1.38e+02, 4.00e+00, 0.00e+00,\n",
       "        0.00e+00],\n",
       "       [8.00e-01, 5.00e-01, 6.60e+01, 1.87e+02, 4.00e+00, 2.00e+00,\n",
       "        0.00e+00],\n",
       "       [9.00e-01, 1.00e-01, 7.70e+01, 1.75e+02, 2.00e+00, 2.00e+00,\n",
       "        1.00e+00],\n",
       "       [4.00e-01, 7.00e-01, 9.90e+01, 1.44e+02, 2.00e+00, 2.00e+00,\n",
       "        0.00e+00],\n",
       "       [1.00e+00, 6.00e-01, 5.70e+01, 1.74e+02, 1.00e+00, 2.00e+00,\n",
       "        0.00e+00],\n",
       "       [5.00e-01, 9.00e-01, 4.80e+01, 1.67e+02, 0.00e+00, 2.00e+00,\n",
       "        0.00e+00],\n",
       "       [5.00e-01, 3.00e-01, 6.00e+01, 1.73e+02, 1.00e+00, 1.00e+00,\n",
       "        0.00e+00],\n",
       "       [5.00e-01, 4.00e-01, 7.60e+01, 1.19e+02, 4.00e+00, 0.00e+00,\n",
       "        0.00e+00],\n",
       "       [5.00e-01, 3.00e-01, 7.70e+01, 1.95e+02, 1.00e+00, 0.00e+00,\n",
       "        1.00e+00],\n",
       "       [8.00e-01, 1.00e+00, 8.00e+00, 1.55e+02, 3.00e+00, 0.00e+00,\n",
       "        0.00e+00],\n",
       "       [7.00e-01, 1.00e-01, 3.80e+01, 1.00e+02, 2.00e+00, 0.00e+00,\n",
       "        0.00e+00],\n",
       "       [1.00e-01, 3.00e-01, 2.30e+01, 1.22e+02, 3.00e+00, 1.00e+00,\n",
       "        1.00e+00],\n",
       "       [4.00e-01, 7.00e-01, 5.00e+01, 1.51e+02, 3.00e+00, 0.00e+00,\n",
       "        0.00e+00],\n",
       "       [3.00e-01, 9.00e-01, 7.00e+01, 1.03e+02, 2.00e+00, 1.00e+00,\n",
       "        0.00e+00],\n",
       "       [2.00e-01, 3.00e-01, 8.00e+01, 1.05e+02, 4.00e+00, 2.00e+00,\n",
       "        1.00e+00]])"
      ]
     },
     "execution_count": 53,
     "metadata": {},
     "output_type": "execute_result"
    }
   ],
   "source": [
    "Meta_GA"
   ]
  },
  {
   "cell_type": "code",
   "execution_count": 34,
   "metadata": {},
   "outputs": [
    {
     "name": "stdout",
     "output_type": "stream",
     "text": [
      "Using matplotlib backend: Qt5Agg\n"
     ]
    },
    {
     "data": {
      "text/plain": [
       "Text(0.5, 0, \"Different EA's\")"
      ]
     },
     "execution_count": 34,
     "metadata": {},
     "output_type": "execute_result"
    }
   ],
   "source": [
    "import matplotlib.pyplot as plt\n",
    "%matplotlib\n",
    "\n",
    "plt.plot (mbf)\n",
    "plt.ylabel ('Mean Best Fitenss')\n",
    "plt.xlabel (\"Different EA's\")"
   ]
  },
  {
   "cell_type": "code",
   "execution_count": 41,
   "metadata": {},
   "outputs": [
    {
     "data": {
      "text/plain": [
       "array([[3.00e-01, 7.00e-01, 7.10e+01, 1.15e+02, 4.00e+00, 0.00e+00,\n",
       "        0.00e+00],\n",
       "       [5.00e-01, 9.00e-01, 4.80e+01, 1.67e+02, 0.00e+00, 2.00e+00,\n",
       "        0.00e+00],\n",
       "       [0.00e+00, 7.00e-01, 2.00e+01, 1.73e+02, 0.00e+00, 0.00e+00,\n",
       "        0.00e+00],\n",
       "       [6.00e-01, 0.00e+00, 6.50e+01, 1.84e+02, 4.00e+00, 1.00e+00,\n",
       "        0.00e+00],\n",
       "       [5.00e-01, 0.00e+00, 7.20e+01, 1.18e+02, 4.00e+00, 1.00e+00,\n",
       "        1.00e+00],\n",
       "       [8.00e-01, 1.00e-01, 9.90e+01, 1.56e+02, 0.00e+00, 2.00e+00,\n",
       "        1.00e+00],\n",
       "       [7.00e-01, 0.00e+00, 1.00e+02, 1.39e+02, 0.00e+00, 2.00e+00,\n",
       "        1.00e+00],\n",
       "       [9.00e-01, 1.00e-01, 7.70e+01, 1.75e+02, 2.00e+00, 2.00e+00,\n",
       "        1.00e+00],\n",
       "       [0.00e+00, 2.00e-01, 4.70e+01, 1.04e+02, 1.00e+00, 1.00e+00,\n",
       "        0.00e+00],\n",
       "       [1.00e+00, 6.00e-01, 5.70e+01, 1.74e+02, 1.00e+00, 2.00e+00,\n",
       "        0.00e+00],\n",
       "       [4.00e-01, 6.00e-01, 2.40e+01, 1.78e+02, 1.00e+00, 2.00e+00,\n",
       "        0.00e+00],\n",
       "       [0.00e+00, 6.00e-01, 1.50e+01, 1.96e+02, 2.00e+00, 2.00e+00,\n",
       "        1.00e+00],\n",
       "       [6.00e-01, 9.00e-01, 1.50e+01, 1.67e+02, 2.00e+00, 2.00e+00,\n",
       "        1.00e+00],\n",
       "       [4.00e-01, 7.00e-01, 9.90e+01, 1.44e+02, 2.00e+00, 2.00e+00,\n",
       "        0.00e+00],\n",
       "       [8.00e-01, 5.00e-01, 6.60e+01, 1.87e+02, 4.00e+00, 2.00e+00,\n",
       "        0.00e+00],\n",
       "       [8.00e-01, 8.00e-01, 2.80e+01, 1.42e+02, 3.00e+00, 2.00e+00,\n",
       "        1.00e+00],\n",
       "       [6.00e-01, 8.00e-01, 3.20e+01, 1.46e+02, 4.00e+00, 2.00e+00,\n",
       "        0.00e+00],\n",
       "       [0.00e+00, 8.00e-01, 1.00e+01, 1.48e+02, 4.00e+00, 1.00e+00,\n",
       "        1.00e+00],\n",
       "       [2.00e-01, 3.00e-01, 8.00e+01, 1.05e+02, 4.00e+00, 2.00e+00,\n",
       "        1.00e+00],\n",
       "       [3.00e-01, 1.00e-01, 5.00e+00, 1.17e+02, 4.00e+00, 0.00e+00,\n",
       "        1.00e+00]])"
      ]
     },
     "execution_count": 41,
     "metadata": {},
     "output_type": "execute_result"
    }
   ],
   "source": [
    "\n",
    "arg = np.argsort(mbf)\n",
    "new = np.zeros(140).reshape(20,7)\n",
    "\n",
    "for i in range (20):\n",
    "    new[i,:] = Meta_GA[arg[19-i],:]\n",
    "new"
   ]
  },
  {
   "cell_type": "code",
   "execution_count": 55,
   "metadata": {},
   "outputs": [],
   "source": [
    "def cx (k1, k2):\n",
    "    rand = random.randint(0,6)\n",
    "    for i in range(rand, 3):\n",
    "        temp = k1[i]\n",
    "        k1 [i] = k2[i]\n",
    "        k2 [i] = temp\n",
    "    return k1,k2"
   ]
  },
  {
   "cell_type": "code",
   "execution_count": 56,
   "metadata": {},
   "outputs": [],
   "source": [
    "final = np.zeros(140).reshape(20,7)\n",
    "for i in range (10):\n",
    "    index1 = random.randint(0,3)\n",
    "    index2 = random.randint(0,3)\n",
    "    final[i,:], final[19-i,:] = cx (new[index1,:], new[index1,:])\n",
    "    \n"
   ]
  },
  {
   "cell_type": "code",
   "execution_count": 57,
   "metadata": {},
   "outputs": [],
   "source": [
    "mbf_final = np.zeros(20)\n",
    "for i in range(20):\n",
    "    res1, win = main (Selectlist[int(final[i,4])],CXlist[int(final[i,5])],mut[int(final[i,6])] ,final[i,0], final[i,1], int(final[i,2]), int(final[i,3]))\n",
    "    #res, win = main (Selectlist[int(Meta_GA[i,4])], CXlist[int(Meta_GA[i,5])],mut[int(Meta_GA[i,6])]\n",
    "    #                 ,Meta_GA[i,0], Meta_GA[i,1], int(Meta_GA[i,2]), int(Meta_GA[i,3]))\n",
    "    mbf_final[i] = np.mean (res1)\n",
    "  #  plt.plot (res1, label = 'new data')\n",
    "    "
   ]
  },
  {
   "cell_type": "code",
   "execution_count": 59,
   "metadata": {},
   "outputs": [
    {
     "name": "stdout",
     "output_type": "stream",
     "text": [
      "Using matplotlib backend: Qt5Agg\n"
     ]
    },
    {
     "data": {
      "text/plain": [
       "<matplotlib.legend.Legend at 0x2520a0c8160>"
      ]
     },
     "execution_count": 59,
     "metadata": {},
     "output_type": "execute_result"
    }
   ],
   "source": [
    "%matplotlib\n",
    "plt.plot(mbf_final, label = 'final result')\n",
    "plt.plot(mbf, label = 'first result')\n",
    "plt.legend()"
   ]
  },
  {
   "cell_type": "code",
   "execution_count": 58,
   "metadata": {},
   "outputs": [
    {
     "data": {
      "text/plain": [
       "array([  0.3,   0.7,  71. , 115. ,   4. ,   0. ,   0. ])"
      ]
     },
     "execution_count": 58,
     "metadata": {},
     "output_type": "execute_result"
    }
   ],
   "source": [
    "new[0,:]"
   ]
  }
 ],
 "metadata": {
  "kernelspec": {
   "display_name": "Python 3",
   "language": "python",
   "name": "python3"
  },
  "language_info": {
   "codemirror_mode": {
    "name": "ipython",
    "version": 3
   },
   "file_extension": ".py",
   "mimetype": "text/x-python",
   "name": "python",
   "nbconvert_exporter": "python",
   "pygments_lexer": "ipython3",
   "version": "3.8.5"
  }
 },
 "nbformat": 4,
 "nbformat_minor": 4
}
