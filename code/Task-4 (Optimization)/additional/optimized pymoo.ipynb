{
 "cells": [
  {
   "cell_type": "code",
   "execution_count": 3,
   "metadata": {},
   "outputs": [],
   "source": [
    "import numpy as np\n",
    "from deap import base\n",
    "from deap import creator\n",
    "from deap import tools\n",
    "import random\n",
    "import pandas as pd\n",
    "from deap import algorithms\n",
    "import matplotlib.pyplot as plt"
   ]
  },
  {
   "cell_type": "code",
   "execution_count": 4,
   "metadata": {},
   "outputs": [],
   "source": [
    "from pymoo.model.problem import Problem\n",
    "from pymoo.optimize import minimize\n",
    "from pymoo.visualization.scatter import Scatter\n",
    "from pymoo.factory import get_problem, get_sampling, get_crossover, get_mutation, get_reference_directions"
   ]
  },
  {
   "cell_type": "markdown",
   "metadata": {},
   "source": [
    "# Reading From Excel File"
   ]
  },
  {
   "cell_type": "code",
   "execution_count": 5,
   "metadata": {},
   "outputs": [],
   "source": [
    "df = pd.read_excel(r\"C:\\Users\\mcf\\OneDrive\\Desktop\\Availability (1).xlsx\")"
   ]
  },
  {
   "cell_type": "code",
   "execution_count": 6,
   "metadata": {},
   "outputs": [],
   "source": [
    "samples = np.asarray(df)"
   ]
  },
  {
   "cell_type": "code",
   "execution_count": 7,
   "metadata": {},
   "outputs": [
    {
     "data": {
      "text/html": [
       "<div>\n",
       "<style scoped>\n",
       "    .dataframe tbody tr th:only-of-type {\n",
       "        vertical-align: middle;\n",
       "    }\n",
       "\n",
       "    .dataframe tbody tr th {\n",
       "        vertical-align: top;\n",
       "    }\n",
       "\n",
       "    .dataframe thead th {\n",
       "        text-align: right;\n",
       "    }\n",
       "</style>\n",
       "<table border=\"1\" class=\"dataframe\">\n",
       "  <thead>\n",
       "    <tr style=\"text-align: right;\">\n",
       "      <th></th>\n",
       "      <th>country</th>\n",
       "      <th>Fertilizers</th>\n",
       "      <th>Import&amp;Product</th>\n",
       "      <th>Export</th>\n",
       "      <th>Availability</th>\n",
       "      <th>Use</th>\n",
       "      <th>x</th>\n",
       "    </tr>\n",
       "  </thead>\n",
       "  <tbody>\n",
       "    <tr>\n",
       "      <th>0</th>\n",
       "      <td>Brazil</td>\n",
       "      <td>Ammonia, anhydrous</td>\n",
       "      <td>24144572.05</td>\n",
       "      <td>399156.28</td>\n",
       "      <td>23745415.77</td>\n",
       "      <td>2571549.00</td>\n",
       "      <td>5931.614778</td>\n",
       "    </tr>\n",
       "    <tr>\n",
       "      <th>1</th>\n",
       "      <td>Brazil</td>\n",
       "      <td>Ammonium nitrate (AN)</td>\n",
       "      <td>21546416.92</td>\n",
       "      <td>214625.65</td>\n",
       "      <td>21331791.27</td>\n",
       "      <td>13821890.37</td>\n",
       "      <td>31882.001541</td>\n",
       "    </tr>\n",
       "    <tr>\n",
       "      <th>2</th>\n",
       "      <td>Brazil</td>\n",
       "      <td>Ammonium sulphate</td>\n",
       "      <td>30988444.53</td>\n",
       "      <td>53840.25</td>\n",
       "      <td>30934604.28</td>\n",
       "      <td>22805149.59</td>\n",
       "      <td>52603.066217</td>\n",
       "    </tr>\n",
       "    <tr>\n",
       "      <th>3</th>\n",
       "      <td>Brazil</td>\n",
       "      <td>Calcium ammonium nitrate (CAN) and other mixtu...</td>\n",
       "      <td>2020987.02</td>\n",
       "      <td>10844.03</td>\n",
       "      <td>2010142.99</td>\n",
       "      <td>1164236.84</td>\n",
       "      <td>2685.464848</td>\n",
       "    </tr>\n",
       "    <tr>\n",
       "      <th>4</th>\n",
       "      <td>Brazil</td>\n",
       "      <td>Diammonium phosphate (DAP)</td>\n",
       "      <td>6948831.81</td>\n",
       "      <td>148854.13</td>\n",
       "      <td>6799977.68</td>\n",
       "      <td>4846157.53</td>\n",
       "      <td>11178.297447</td>\n",
       "    </tr>\n",
       "    <tr>\n",
       "      <th>...</th>\n",
       "      <td>...</td>\n",
       "      <td>...</td>\n",
       "      <td>...</td>\n",
       "      <td>...</td>\n",
       "      <td>...</td>\n",
       "      <td>...</td>\n",
       "      <td>...</td>\n",
       "    </tr>\n",
       "    <tr>\n",
       "      <th>110</th>\n",
       "      <td>Mexico</td>\n",
       "      <td>Sodium nitrate</td>\n",
       "      <td>32779.02</td>\n",
       "      <td>1030.91</td>\n",
       "      <td>31748.11</td>\n",
       "      <td>0.00</td>\n",
       "      <td>0.000000</td>\n",
       "    </tr>\n",
       "    <tr>\n",
       "      <th>111</th>\n",
       "      <td>Mexico</td>\n",
       "      <td>Superphosphates above 35%</td>\n",
       "      <td>622825.23</td>\n",
       "      <td>2467787.77</td>\n",
       "      <td>-1844962.54</td>\n",
       "      <td>811919.38</td>\n",
       "      <td>1699.959390</td>\n",
       "    </tr>\n",
       "    <tr>\n",
       "      <th>112</th>\n",
       "      <td>Mexico</td>\n",
       "      <td>Superphosphates, other</td>\n",
       "      <td>0.00</td>\n",
       "      <td>0.00</td>\n",
       "      <td>0.00</td>\n",
       "      <td>21682383.00</td>\n",
       "      <td>45397.574551</td>\n",
       "    </tr>\n",
       "    <tr>\n",
       "      <th>113</th>\n",
       "      <td>Mexico</td>\n",
       "      <td>Urea</td>\n",
       "      <td>21917270.86</td>\n",
       "      <td>303460.75</td>\n",
       "      <td>21613810.11</td>\n",
       "      <td>8931655.72</td>\n",
       "      <td>18700.689238</td>\n",
       "    </tr>\n",
       "    <tr>\n",
       "      <th>114</th>\n",
       "      <td>Mexico</td>\n",
       "      <td>Urea and ammonium nitrate solutions (UAN)</td>\n",
       "      <td>1028338.92</td>\n",
       "      <td>46263.77</td>\n",
       "      <td>982075.15</td>\n",
       "      <td>305737.70</td>\n",
       "      <td>640.139510</td>\n",
       "    </tr>\n",
       "  </tbody>\n",
       "</table>\n",
       "<p>115 rows × 7 columns</p>\n",
       "</div>"
      ],
      "text/plain": [
       "    country                                        Fertilizers  \\\n",
       "0    Brazil                                 Ammonia, anhydrous   \n",
       "1    Brazil                              Ammonium nitrate (AN)   \n",
       "2    Brazil                                  Ammonium sulphate   \n",
       "3    Brazil  Calcium ammonium nitrate (CAN) and other mixtu...   \n",
       "4    Brazil                         Diammonium phosphate (DAP)   \n",
       "..      ...                                                ...   \n",
       "110  Mexico                                     Sodium nitrate   \n",
       "111  Mexico                          Superphosphates above 35%   \n",
       "112  Mexico                             Superphosphates, other   \n",
       "113  Mexico                                               Urea   \n",
       "114  Mexico          Urea and ammonium nitrate solutions (UAN)   \n",
       "\n",
       "     Import&Product      Export  Availability          Use             x  \n",
       "0       24144572.05   399156.28   23745415.77   2571549.00   5931.614778  \n",
       "1       21546416.92   214625.65   21331791.27  13821890.37  31882.001541  \n",
       "2       30988444.53    53840.25   30934604.28  22805149.59  52603.066217  \n",
       "3        2020987.02    10844.03    2010142.99   1164236.84   2685.464848  \n",
       "4        6948831.81   148854.13    6799977.68   4846157.53  11178.297447  \n",
       "..              ...         ...           ...          ...           ...  \n",
       "110        32779.02     1030.91      31748.11         0.00      0.000000  \n",
       "111       622825.23  2467787.77   -1844962.54    811919.38   1699.959390  \n",
       "112            0.00        0.00          0.00  21682383.00  45397.574551  \n",
       "113     21917270.86   303460.75   21613810.11   8931655.72  18700.689238  \n",
       "114      1028338.92    46263.77     982075.15    305737.70    640.139510  \n",
       "\n",
       "[115 rows x 7 columns]"
      ]
     },
     "execution_count": 7,
     "metadata": {},
     "output_type": "execute_result"
    }
   ],
   "source": [
    "df"
   ]
  },
  {
   "cell_type": "markdown",
   "metadata": {},
   "source": [
    "#### In this part we will convert the fertalize names and country names to numbers"
   ]
  },
  {
   "cell_type": "code",
   "execution_count": 8,
   "metadata": {},
   "outputs": [],
   "source": [
    "country = pd.factorize(df['country'])[0]\n",
    "fert = pd.factorize(df['Fertilizers'])[0]"
   ]
  },
  {
   "cell_type": "code",
   "execution_count": 9,
   "metadata": {},
   "outputs": [],
   "source": [
    "samples[:,0] = country\n",
    "samples[:,1] = fert"
   ]
  },
  {
   "cell_type": "code",
   "execution_count": 10,
   "metadata": {},
   "outputs": [
    {
     "data": {
      "text/plain": [
       "(115, 7)"
      ]
     },
     "execution_count": 10,
     "metadata": {},
     "output_type": "execute_result"
    }
   ],
   "source": [
    "samples.shape"
   ]
  },
  {
   "cell_type": "markdown",
   "metadata": {},
   "source": [
    "# EC Code\n",
    "#### in this part we will use availability and production as a fitness functions per country"
   ]
  },
  {
   "cell_type": "code",
   "execution_count": 11,
   "metadata": {},
   "outputs": [],
   "source": [
    "creator.create(\"Fitness\", base.Fitness, weights = (1.0,))\n",
    "creator.create(\"Individual\", np.ndarray, fitness = creator.Fitness)"
   ]
  },
  {
   "cell_type": "code",
   "execution_count": 12,
   "metadata": {},
   "outputs": [],
   "source": [
    "IND_SIZE = 22\n",
    "toolbox = base.Toolbox()\n",
    "toolbox.register(\"indices\", random.sample, range(IND_SIZE), IND_SIZE)\n",
    "toolbox.register(\"individual\", tools.initIterate, creator.Individual, toolbox.indices)\n",
    "toolbox.register(\"population\", tools.initRepeat, list, toolbox.individual)"
   ]
  },
  {
   "cell_type": "code",
   "execution_count": 13,
   "metadata": {},
   "outputs": [],
   "source": [
    "def evaluation (individual):\n",
    "    result1 = 0\n",
    "    result2 = 0\n",
    "    for i in range (22):\n",
    "        temp = individual[i]\n",
    "        for j in range (115):\n",
    "            if samples [j,0] == 4 and samples [j,1] == individual[i]:\n",
    "                result1 += samples[j,4] * (23 - i)\n",
    "                result2 += samples[j,6] * (23 - i)\n",
    "    return (result1 + result2),"
   ]
  },
  {
   "cell_type": "code",
   "execution_count": 14,
   "metadata": {},
   "outputs": [],
   "source": [
    "def mutInv (individual):\n",
    "    index1 = random.randint(0,12)\n",
    "    index2 = random.randint(13,21)\n",
    "    for i in range(index1, index2):\n",
    "        temp = individual[i]\n",
    "        individual[i] = individual[index2-i]\n",
    "        individual[index2-i] = temp\n",
    "    return individual"
   ]
  },
  {
   "cell_type": "code",
   "execution_count": 15,
   "metadata": {},
   "outputs": [],
   "source": [
    "toolbox.register(\"evaluate\", evaluation)\n",
    "toolbox.register(\"cx_pm\", tools.cxPartialyMatched)\n",
    "toolbox.register(\"cx_onepoint\", tools.cxOnePoint)\n",
    "toolbox.register(\"cx_twopoint\", tools.cxTwoPoint)\n",
    "toolbox.register(\"mut_shuffle\", tools.mutShuffleIndexes)\n",
    "toolbox.register(\"mut_inverse\", mutInv)\n",
    "# indpb = random.randint(0,10)/10)\n",
    "#toolbox.register(\"select\", tools.selTournament, tournsize = 10)\n",
    "toolbox.register(\"sel_roulette\", tools.selRoulette)\n",
    "toolbox.register(\"sel_best\", tools.selBest)\n",
    "toolbox.register(\"sel_worst\", tools.selWorst)\n",
    "toolbox.register(\"sel_random\", tools.selRandom)\n"
   ]
  },
  {
   "cell_type": "code",
   "execution_count": 16,
   "metadata": {},
   "outputs": [],
   "source": [
    "\n",
    "def main (selection, CX, mutation, CXPB, MUTPB, tsize, popul):\n",
    "    res= np.zeros (200)\n",
    "    toolbox.register(\"sel_trnmnt\", tools.selTournament, tournsize = tsize)\n",
    "    pop = toolbox.population(n = popul)\n",
    "    fitnesses = list (map (toolbox.evaluate, pop))\n",
    "    for ind, fit in zip(pop, fitnesses):\n",
    "        ind.fitness.values = fit\n",
    "    #CXPB, MUTPB = 0.8, 0.8\n",
    "    fits = [ind.fitness.values[0] for ind in pop]\n",
    "    g = 0\n",
    "    while g < 50:\n",
    "        \n",
    "        #print ('--Generation %i---' %g)\n",
    "        if selection == 'trnmnt':\n",
    "            offspring = toolbox.sel_trnmnt(pop, len(pop))\n",
    "        elif selection == 'roulette':\n",
    "            offspring = toolbox.sel_roulette(pop, len(pop))\n",
    "        elif selection == 'best':\n",
    "            offspring = toolbox.sel_best(pop, len(pop))\n",
    "        elif selection == 'worst':\n",
    "            offspring = toolbox.sel_worst(pop, len(pop))\n",
    "        elif selection == 'random':\n",
    "            offspring = toolbox.sel_random(pop, len(pop))\n",
    "        \n",
    "        #toolbox.clone() method ensure that we don’t use a reference to the individuals but an completely independent instance.\n",
    "        offspring = list(map(toolbox.clone, offspring))\n",
    "                # Apply crossover and mutation on the offspring\n",
    "        for child1, child2 in zip(offspring[::2], offspring[1::2]):\n",
    "            if random.random() < CXPB:\n",
    "                if CX == 'onepoint':\n",
    "                    toolbox.cx_onepoint(child1, child2)\n",
    "                elif CX == 'twopoint':\n",
    "                    toolbox.cx_twopoint(child1, child2)\n",
    "                elif CX == 'pmx':\n",
    "                    toolbox.cx_pm(child1, child2)\n",
    "                del child1.fitness.values\n",
    "                del child2.fitness.values\n",
    "\n",
    "        for mutant in offspring:\n",
    "            if random.random() < MUTPB:\n",
    "                if mutation == 'shuffle':\n",
    "                    toolbox.mut_shuffle(mutant, random.random())\n",
    "                elif mutation == 'inverse':\n",
    "                    toolbox.mut_inverse(mutant)\n",
    "                del mutant.fitness.values\n",
    "        invalid_ind = [ind for ind in offspring if not ind.fitness.valid]\n",
    "        fitnesses = map(toolbox.evaluate, invalid_ind)\n",
    "        for ind, fit in zip(invalid_ind, fitnesses):\n",
    "            ind.fitness.values = fit\n",
    "        pop[:] = offspring\n",
    "        fits = [ind.fitness.values[0] for ind in pop]\n",
    "        \n",
    "        length = len(pop)\n",
    "        mean = sum(fits) / length\n",
    "        sum2 = sum(x*x for x in fits)\n",
    "        std = abs(sum2 / length - mean**2)**0.5\n",
    "        \n",
    "       # print(\"  Min %s\" % min(fits))\n",
    "       # print(\"  Max %s\" % max(fits))\n",
    "       # print(\"  Avg %s\" % mean)\n",
    "       # print(\"  Std %s\" % std)\n",
    "        res[g] = max(fits)\n",
    "        g = g + 1\n",
    "    ind = max(fits)\n",
    "   # print (ind)\n",
    "    # you can choose haow many best individuals wanna see by k\n",
    "    winner = tools.selBest(pop, k = 1)\n",
    "    return res, winner"
   ]
  },
  {
   "cell_type": "code",
   "execution_count": 17,
   "metadata": {},
   "outputs": [],
   "source": [
    "Selectlist = ['trnmnt', 'roulette', 'best', 'worst', 'random']\n",
    "CXlist = ['onepoint', 'twopoint', 'pmx']\n",
    "mut = ['shuffle', 'inverse']"
   ]
  },
  {
   "cell_type": "code",
   "execution_count": 21,
   "metadata": {},
   "outputs": [],
   "source": [
    "class MyProblem (Problem):\n",
    "\n",
    "    def __init__(self):\n",
    "        super().__init__(n_var=7,\n",
    "                         n_obj=1,\n",
    "                         n_constr=0,\n",
    "                         xl=np.array([0,0,1,100,0,0,0]),\n",
    "                         xu=np.array([10,10,100,400,4,2,1]))\n",
    "\n",
    "    def _evaluate(self, X, out, *args, **kwargs):\n",
    "        #print (X.shape)\n",
    "        mbf = np.zeros(X.shape[0])\n",
    "        for i in range (X.shape[0]): \n",
    "            \n",
    "            result, win = main (Selectlist[int(X[i,4])], CXlist[int(X[i,5])], mut[int(X[i,6])], \n",
    "                                X[i,0]/10, X[i,1]/10, int(X[i,2]), int(X[i,3])) \n",
    "            mbf[i] = -(np.mean(result, axis = None))\n",
    "        \n",
    "        #plt.plot(-mbf)\n",
    "        #plt.show()\n",
    "        out[\"F\"] = np.column_stack([mbf])\n",
    "        #out[\"G\"] = np.column_stack([0,0])\n",
    "problem = MyProblem()"
   ]
  },
  {
   "cell_type": "code",
   "execution_count": 23,
   "metadata": {},
   "outputs": [],
   "source": [
    "from pymoo.model.callback import Callback\n",
    "class MyCallback(Callback):\n",
    "\n",
    "    def __init__(self) -> None:\n",
    "        super().__init__()\n",
    "        self.data[\"best\"] = []\n",
    "\n",
    "    def notify(self, algorithm):\n",
    "        self.data[\"best\"].append(algorithm.pop.get(\"F\").min())    \n"
   ]
  },
  {
   "cell_type": "code",
   "execution_count": 29,
   "metadata": {},
   "outputs": [
    {
     "name": "stdout",
     "output_type": "stream",
     "text": [
      "=============================================\n",
      "n_gen |  n_eval |     fopt     |     favg    \n",
      "=============================================\n",
      "    1 |      20 | -9.01663E+08 | -4.51298E+08\n",
      "    2 |      40 | -1.10844E+09 | -6.87582E+08\n",
      "    3 |      60 | -1.14206E+09 | -8.90938E+08\n",
      "    4 |      80 | -1.28983E+09 | -1.08024E+09\n",
      "    5 |     100 | -1.32457E+09 | -1.21352E+09\n",
      "    6 |     120 | -1.37688E+09 | -1.28763E+09\n",
      "    7 |     140 | -1.37688E+09 | -1.32217E+09\n",
      "    8 |     160 | -1.37688E+09 | -1.33616E+09\n",
      "    9 |     180 | -1.37688E+09 | -1.34225E+09\n",
      "   10 |     200 | -1.37688E+09 | -1.34895E+09\n",
      "   11 |     220 | -1.37688E+09 | -1.35011E+09\n",
      "   12 |     240 | -1.37688E+09 | -1.35242E+09\n",
      "   13 |     260 | -1.37688E+09 | -1.35433E+09\n",
      "   14 |     280 | -1.37688E+09 | -1.35731E+09\n",
      "   15 |     300 | -1.37688E+09 | -1.36003E+09\n",
      "   16 |     320 | -1.37688E+09 | -1.36092E+09\n",
      "   17 |     340 | -1.37688E+09 | -1.36246E+09\n",
      "   18 |     360 | -1.37688E+09 | -1.36340E+09\n",
      "   19 |     380 | -1.37688E+09 | -1.36397E+09\n",
      "   20 |     400 | -1.37688E+09 | -1.36476E+09\n",
      "Best solution found: \n",
      "X = [9.00268080e+00 8.00167297e+00 2.64743203e+01 3.16422742e+02\n",
      " 7.26890939e-02 6.27977591e-03 0.00000000e+00]\n",
      "F = [-1.37687922e+09]\n"
     ]
    }
   ],
   "source": [
    "from pymoo.algorithms.so_genetic_algorithm import GA\n",
    "from pymoo.optimize import minimize\n",
    "\n",
    "algorithm = GA(pop_size=20, eliminate_duplicates=True, save_history=True,sampling=get_sampling(\"int_random\"))\n",
    "  \n",
    "res = minimize(problem, algorithm, seed=1, verbose=True,termination = ('n_gen', 20), callback=MyCallback())\n",
    "\n",
    "print(\"Best solution found: \\nX = %s\\nF = %s\" % (res.X, res.F))\n"
   ]
  },
  {
   "cell_type": "code",
   "execution_count": 38,
   "metadata": {},
   "outputs": [
    {
     "data": {
      "image/png": "[encoded data removed]",
      "text/plain": [
       "<Figure size 432x288 with 1 Axes>"
      ]
     },
     "metadata": {
      "needs_background": "light"
     },
     "output_type": "display_data"
    }
   ],
   "source": [
    "val = res.algorithm.callback.data[\"best\"]\n",
    "plt.plot(np.arange(len(val)), val)\n",
    "plt.title(\"Best Solution in Each Generation\")\n",
    "plt.xlabel(\"Generation\")\n",
    "plt.ylabel(\"MBF\")\n",
    "plt.show()"
   ]
  }
 ],
 "metadata": {
  "kernelspec": {
   "display_name": "Python 3",
   "language": "python",
   "name": "python3"
  },
  "language_info": {
   "codemirror_mode": {
    "name": "ipython",
    "version": 3
   },
   "file_extension": ".py",
   "mimetype": "text/x-python",
   "name": "python",
   "nbconvert_exporter": "python",
   "pygments_lexer": "ipython3",
   "version": "3.8.5"
  }
 },
 "nbformat": 4,
 "nbformat_minor": 4
}
