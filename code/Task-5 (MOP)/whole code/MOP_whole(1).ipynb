{
 "cells": [
  {
   "cell_type": "code",
   "execution_count": 1,
   "metadata": {},
   "outputs": [],
   "source": [
    "import numpy as np\n",
    "import random\n",
    "import pandas as pd\n",
    "from pymoo.algorithms.nsga2 import NSGA2\n",
    "from pymoo.model.problem import Problem\n",
    "from pymoo.optimize import minimize\n",
    "from pymoo.visualization.scatter import Scatter\n",
    "import matplotlib.pyplot as plt\n",
    "from pymoo.factory import get_problem, get_sampling, get_crossover, get_mutation, get_reference_directions"
   ]
  },
  {
   "cell_type": "markdown",
   "metadata": {},
   "source": [
    "## Preprocessing\n"
   ]
  },
  {
   "cell_type": "code",
   "execution_count": 2,
   "metadata": {},
   "outputs": [],
   "source": [
    "df = pd.read_excel(r\"C:\\Users\\mcf\\OneDrive\\Desktop\\Availability (1).xlsx\")"
   ]
  },
  {
   "cell_type": "code",
   "execution_count": 3,
   "metadata": {},
   "outputs": [],
   "source": [
    "samples = np.asarray(df)"
   ]
  },
  {
   "cell_type": "code",
   "execution_count": 4,
   "metadata": {},
   "outputs": [
    {
     "data": {
      "text/html": [
       "<div>\n",
       "<style scoped>\n",
       "    .dataframe tbody tr th:only-of-type {\n",
       "        vertical-align: middle;\n",
       "    }\n",
       "\n",
       "    .dataframe tbody tr th {\n",
       "        vertical-align: top;\n",
       "    }\n",
       "\n",
       "    .dataframe thead th {\n",
       "        text-align: right;\n",
       "    }\n",
       "</style>\n",
       "<table border=\"1\" class=\"dataframe\">\n",
       "  <thead>\n",
       "    <tr style=\"text-align: right;\">\n",
       "      <th></th>\n",
       "      <th>country</th>\n",
       "      <th>Fertilizers</th>\n",
       "      <th>Import&amp;Product</th>\n",
       "      <th>Export</th>\n",
       "      <th>Availability</th>\n",
       "      <th>Use</th>\n",
       "      <th>x</th>\n",
       "    </tr>\n",
       "  </thead>\n",
       "  <tbody>\n",
       "    <tr>\n",
       "      <th>0</th>\n",
       "      <td>Brazil</td>\n",
       "      <td>Ammonia, anhydrous</td>\n",
       "      <td>24144572.05</td>\n",
       "      <td>399156.28</td>\n",
       "      <td>23745415.77</td>\n",
       "      <td>2571549.00</td>\n",
       "      <td>5931.614778</td>\n",
       "    </tr>\n",
       "    <tr>\n",
       "      <th>1</th>\n",
       "      <td>Brazil</td>\n",
       "      <td>Ammonium nitrate (AN)</td>\n",
       "      <td>21546416.92</td>\n",
       "      <td>214625.65</td>\n",
       "      <td>21331791.27</td>\n",
       "      <td>13821890.37</td>\n",
       "      <td>31882.001541</td>\n",
       "    </tr>\n",
       "    <tr>\n",
       "      <th>2</th>\n",
       "      <td>Brazil</td>\n",
       "      <td>Ammonium sulphate</td>\n",
       "      <td>30988444.53</td>\n",
       "      <td>53840.25</td>\n",
       "      <td>30934604.28</td>\n",
       "      <td>22805149.59</td>\n",
       "      <td>52603.066217</td>\n",
       "    </tr>\n",
       "    <tr>\n",
       "      <th>3</th>\n",
       "      <td>Brazil</td>\n",
       "      <td>Calcium ammonium nitrate (CAN) and other mixtu...</td>\n",
       "      <td>2020987.02</td>\n",
       "      <td>10844.03</td>\n",
       "      <td>2010142.99</td>\n",
       "      <td>1164236.84</td>\n",
       "      <td>2685.464848</td>\n",
       "    </tr>\n",
       "    <tr>\n",
       "      <th>4</th>\n",
       "      <td>Brazil</td>\n",
       "      <td>Diammonium phosphate (DAP)</td>\n",
       "      <td>6948831.81</td>\n",
       "      <td>148854.13</td>\n",
       "      <td>6799977.68</td>\n",
       "      <td>4846157.53</td>\n",
       "      <td>11178.297447</td>\n",
       "    </tr>\n",
       "    <tr>\n",
       "      <th>...</th>\n",
       "      <td>...</td>\n",
       "      <td>...</td>\n",
       "      <td>...</td>\n",
       "      <td>...</td>\n",
       "      <td>...</td>\n",
       "      <td>...</td>\n",
       "      <td>...</td>\n",
       "    </tr>\n",
       "    <tr>\n",
       "      <th>110</th>\n",
       "      <td>Mexico</td>\n",
       "      <td>Sodium nitrate</td>\n",
       "      <td>32779.02</td>\n",
       "      <td>1030.91</td>\n",
       "      <td>31748.11</td>\n",
       "      <td>0.00</td>\n",
       "      <td>0.000000</td>\n",
       "    </tr>\n",
       "    <tr>\n",
       "      <th>111</th>\n",
       "      <td>Mexico</td>\n",
       "      <td>Superphosphates above 35%</td>\n",
       "      <td>622825.23</td>\n",
       "      <td>2467787.77</td>\n",
       "      <td>-1844962.54</td>\n",
       "      <td>811919.38</td>\n",
       "      <td>1699.959390</td>\n",
       "    </tr>\n",
       "    <tr>\n",
       "      <th>112</th>\n",
       "      <td>Mexico</td>\n",
       "      <td>Superphosphates, other</td>\n",
       "      <td>0.00</td>\n",
       "      <td>0.00</td>\n",
       "      <td>0.00</td>\n",
       "      <td>21682383.00</td>\n",
       "      <td>45397.574551</td>\n",
       "    </tr>\n",
       "    <tr>\n",
       "      <th>113</th>\n",
       "      <td>Mexico</td>\n",
       "      <td>Urea</td>\n",
       "      <td>21917270.86</td>\n",
       "      <td>303460.75</td>\n",
       "      <td>21613810.11</td>\n",
       "      <td>8931655.72</td>\n",
       "      <td>18700.689238</td>\n",
       "    </tr>\n",
       "    <tr>\n",
       "      <th>114</th>\n",
       "      <td>Mexico</td>\n",
       "      <td>Urea and ammonium nitrate solutions (UAN)</td>\n",
       "      <td>1028338.92</td>\n",
       "      <td>46263.77</td>\n",
       "      <td>982075.15</td>\n",
       "      <td>305737.70</td>\n",
       "      <td>640.139510</td>\n",
       "    </tr>\n",
       "  </tbody>\n",
       "</table>\n",
       "<p>115 rows × 7 columns</p>\n",
       "</div>"
      ],
      "text/plain": [
       "    country                                        Fertilizers  \\\n",
       "0    Brazil                                 Ammonia, anhydrous   \n",
       "1    Brazil                              Ammonium nitrate (AN)   \n",
       "2    Brazil                                  Ammonium sulphate   \n",
       "3    Brazil  Calcium ammonium nitrate (CAN) and other mixtu...   \n",
       "4    Brazil                         Diammonium phosphate (DAP)   \n",
       "..      ...                                                ...   \n",
       "110  Mexico                                     Sodium nitrate   \n",
       "111  Mexico                          Superphosphates above 35%   \n",
       "112  Mexico                             Superphosphates, other   \n",
       "113  Mexico                                               Urea   \n",
       "114  Mexico          Urea and ammonium nitrate solutions (UAN)   \n",
       "\n",
       "     Import&Product      Export  Availability          Use             x  \n",
       "0       24144572.05   399156.28   23745415.77   2571549.00   5931.614778  \n",
       "1       21546416.92   214625.65   21331791.27  13821890.37  31882.001541  \n",
       "2       30988444.53    53840.25   30934604.28  22805149.59  52603.066217  \n",
       "3        2020987.02    10844.03    2010142.99   1164236.84   2685.464848  \n",
       "4        6948831.81   148854.13    6799977.68   4846157.53  11178.297447  \n",
       "..              ...         ...           ...          ...           ...  \n",
       "110        32779.02     1030.91      31748.11         0.00      0.000000  \n",
       "111       622825.23  2467787.77   -1844962.54    811919.38   1699.959390  \n",
       "112            0.00        0.00          0.00  21682383.00  45397.574551  \n",
       "113     21917270.86   303460.75   21613810.11   8931655.72  18700.689238  \n",
       "114      1028338.92    46263.77     982075.15    305737.70    640.139510  \n",
       "\n",
       "[115 rows x 7 columns]"
      ]
     },
     "execution_count": 4,
     "metadata": {},
     "output_type": "execute_result"
    }
   ],
   "source": [
    "df"
   ]
  },
  {
   "cell_type": "code",
   "execution_count": 5,
   "metadata": {},
   "outputs": [],
   "source": [
    "country = pd.factorize(df['country'])[0]\n",
    "fert = pd.factorize(df['Fertilizers'])[0]"
   ]
  },
  {
   "cell_type": "code",
   "execution_count": 6,
   "metadata": {},
   "outputs": [],
   "source": [
    "samples[:,0] = country\n",
    "samples[:,1] = fert"
   ]
  },
  {
   "cell_type": "markdown",
   "metadata": {},
   "source": [
    "## Defining our problem\n"
   ]
  },
  {
   "cell_type": "code",
   "execution_count": 7,
   "metadata": {},
   "outputs": [],
   "source": [
    "class MyProblem(Problem):\n",
    "\n",
    "    def __init__(self):\n",
    "        super().__init__(n_var=23,\n",
    "                         n_obj=2,\n",
    "                         n_constr=0,\n",
    "                         xl=np.array([0,0,0,0,0,0,0,0,0,0,0,0,0,0,0,0,0,0,0,0,0,0,0]),\n",
    "                         xu=np.array([23,23,23,23,23,23,23,23,23,23,23,23,23,23,23,23,23,23,23,23,23,23,23]))\n",
    "\n",
    "    def _evaluate(self, X, out, *args, **kwargs):\n",
    "        f1 = np.zeros(X.shape[0])\n",
    "        f2 = np.zeros(X.shape[0])\n",
    "       # print(X.shape)\n",
    "        for p in range (X.shape[0]):\n",
    "            for i in range (22): \n",
    "                temp = X[p,i]\n",
    "                for j in range (115):\n",
    "                    if samples [j,0] == 4 and samples [j,1] == X[p,i]:\n",
    "                        f1[p] += -(samples[j,4] * (23 - i))\n",
    "                        f2[p] += -(samples[j,6] * (23 - i))\n",
    "                \n",
    "        \n",
    "        out[\"F\"] = np.column_stack([f1, f2])\n",
    "        #out[\"G\"] = np.column_stack([0,0])\n",
    "problem = MyProblem()"
   ]
  },
  {
   "cell_type": "markdown",
   "metadata": {},
   "source": [
    "## NSGA2"
   ]
  },
  {
   "cell_type": "code",
   "execution_count": 16,
   "metadata": {},
   "outputs": [
    {
     "data": {
      "text/plain": [
       "<pymoo.visualization.scatter.Scatter at 0x28ec110ea00>"
      ]
     },
     "execution_count": 16,
     "metadata": {},
     "output_type": "execute_result"
    },
    {
     "data": {
      "image/png": "[encoded data removed]",
      "text/plain": [
       "<Figure size 576x432 with 1 Axes>"
      ]
     },
     "metadata": {
      "needs_background": "light"
     },
     "output_type": "display_data"
    }
   ],
   "source": [
    "\n",
    "algorithm = NSGA2(pop_size=100, sampling=get_sampling(\"perm_random\"),\n",
    "                  crossover=get_crossover(\"perm_ox\"),\n",
    "                  mutation=get_mutation(\"perm_inv\"),\n",
    "                  eliminate_duplicates=True)\n",
    "res_NSGA2 = minimize (problem, algorithm, Termination = (\"n_gen\", 500), seed = 1, verbose = False, save_history=True)\n",
    "plot = Scatter()\n",
    "plot.add(problem.pareto_front(), plot_type=\"line\", color=\"black\", alpha=0.7)\n",
    "plot.add(res_NSGA2.F, color=\"red\")\n",
    "plot.show()"
   ]
  },
  {
   "cell_type": "markdown",
   "metadata": {},
   "source": [
    "## RNSGA2"
   ]
  },
  {
   "cell_type": "code",
   "execution_count": 22,
   "metadata": {},
   "outputs": [],
   "source": [
    "%matplotlib inline"
   ]
  },
  {
   "cell_type": "code",
   "execution_count": 8,
   "metadata": {},
   "outputs": [
    {
     "data": {
      "text/plain": [
       "<pymoo.visualization.scatter.Scatter at 0x26e7a6f0a60>"
      ]
     },
     "execution_count": 8,
     "metadata": {},
     "output_type": "execute_result"
    },
    {
     "data": {
      "image/png": "[encoded data removed]",
      "text/plain": [
       "<Figure size 576x432 with 1 Axes>"
      ]
     },
     "metadata": {
      "needs_background": "light"
     },
     "output_type": "display_data"
    }
   ],
   "source": [
    "from pymoo.algorithms.rnsga2 import RNSGA2\n",
    "from pymoo.factory import get_visualization, get_reference_directions\n",
    "from pymoo.util.ref_dirs.energy import RieszEnergyReferenceDirectionFactory\n",
    "\n",
    "ref_dennis = get_reference_directions(\"das-dennis\", 2, n_points=5, seed=1)\n",
    "ref_energy = get_reference_directions(\"energy\", 2, 8, seed=1)\n",
    "\n",
    "algorithm_energy = RNSGA2(pop_size=100, sampling=get_sampling(\"perm_random\"),\n",
    "                  crossover=get_crossover(\"perm_ox\"),\n",
    "                  mutation=get_mutation(\"perm_inv\"),\n",
    "                  eliminate_duplicates=True,\n",
    "                  ref_points = ref_energy, epsilon=0.01,\n",
    "                  normalization='front')\n",
    "res_RNSGA2_energy = minimize (problem, algorithm_energy, Termination = (\"n_gen\", 200), seed = 1, verbose = False, save_history=True)\n",
    "algorithm_dennis = RNSGA2(pop_size=100, sampling=get_sampling(\"perm_random\"),\n",
    "                  crossover=get_crossover(\"perm_ox\"),\n",
    "                  mutation=get_mutation(\"perm_inv\"),\n",
    "                  eliminate_duplicates=True,\n",
    "                  ref_points = ref_dennis, epsilon=0.01,\n",
    "                  normalization='front')\n",
    "\n",
    "\n",
    "res_RNSGA2_dennis = minimize (problem, algorithm_dennis, Termination = (\"n_gen\", 200), seed = 1, verbose = False, save_history=True)\n",
    "\n",
    "plot = Scatter()\n",
    "plot.add(problem.pareto_front(), plot_type=\"line\", color=\"black\", alpha=0.7)\n",
    "plot.add(res_RNSGA2_energy.F, color=\"Orange\")\n",
    "plot.add(res_RNSGA2_dennis.F, color=\"black\")\n",
    "plot.show()"
   ]
  },
  {
   "cell_type": "code",
   "execution_count": 29,
   "metadata": {},
   "outputs": [
    {
     "data": {
      "text/plain": [
       "<pymoo.visualization.scatter.Scatter at 0x1ea8d7ae610>"
      ]
     },
     "execution_count": 29,
     "metadata": {},
     "output_type": "execute_result"
    },
    {
     "data": {
      "image/png": "[encoded data removed]",
      "text/plain": [
       "<Figure size 864x288 with 1 Axes>"
      ]
     },
     "metadata": {
      "needs_background": "light"
     },
     "output_type": "display_data"
    },
    {
     "data": {
      "image/png": "[encoded data removed]",
      "text/plain": [
       "<Figure size 576x432 with 1 Axes>"
      ]
     },
     "metadata": {
      "needs_background": "light"
     },
     "output_type": "display_data"
    }
   ],
   "source": [
    "plt.figure(figsize=(12,4))\n",
    "plt.subplot(121)\n",
    "plot = Scatter()\n",
    "plot.add(problem.pareto_front(), plot_type=\"line\", color=\"black\", alpha=0.7)\n",
    "plot.add(res_RNSGA2_energy.F, color=\"Orange\")\n",
    "plt.subplot(121)\n",
    "plot.add(res_RNSGA2_dennis.F, color=\"black\")\n",
    "plot.show()"
   ]
  },
  {
   "cell_type": "markdown",
   "metadata": {},
   "source": [
    "## NSGA3"
   ]
  },
  {
   "cell_type": "code",
   "execution_count": 31,
   "metadata": {},
   "outputs": [
    {
     "data": {
      "text/plain": [
       "<pymoo.visualization.scatter.Scatter at 0x1ea82f4b250>"
      ]
     },
     "execution_count": 31,
     "metadata": {},
     "output_type": "execute_result"
    },
    {
     "data": {
      "image/png": "[encoded data removed]",
      "text/plain": [
       "<Figure size 576x432 with 1 Axes>"
      ]
     },
     "metadata": {
      "needs_background": "light"
     },
     "output_type": "display_data"
    }
   ],
   "source": [
    "from pymoo.algorithms.nsga3 import NSGA3\n",
    "ref_energy = get_reference_directions(\"energy\", 2, 8, seed=1)\n",
    "ref_dennis = get_reference_directions(\"das-dennis\", 2, n_partitions=5, seed=1)\n",
    "#ref_dirs = get_reference_directions(\"das-dennis\", 2, n_partitions=23)\n",
    "algorithm_dennis = NSGA3(pop_size=100, sampling=get_sampling(\"perm_random\"),\n",
    "                  crossover=get_crossover(\"perm_ox\"),\n",
    "                  mutation=get_mutation(\"perm_inv\"),\n",
    "                  eliminate_duplicates=True,\n",
    "                  ref_dirs=ref_dennis,\n",
    "                  normalization='front')\n",
    "res_NSGA3_dennis = minimize (problem, algorithm_dennis, Termination = (\"n_gen\", 200), seed = 1, verbose = False, save_history=True)\n",
    "algorithm_energy = NSGA3(pop_size=100, sampling=get_sampling(\"perm_random\"),\n",
    "                  crossover=get_crossover(\"perm_ox\"),\n",
    "                  mutation=get_mutation(\"perm_inv\"),\n",
    "                  eliminate_duplicates=True,\n",
    "                  ref_dirs=ref_energy,\n",
    "                  normalization='front')\n",
    "res_NSGA3_energy = minimize (problem, algorithm_energy, Termination = (\"n_gen\", 200), seed = 1, verbose = False, save_history=True)\n",
    "plot = Scatter()\n",
    "plot.add(problem.pareto_front(), plot_type=\"line\", color=\"black\", alpha=0.7)\n",
    "plot.add(res_NSGA3_dennis.F, color=\"blue\")\n",
    "plot.add(res_NSGA3_energy.F, color=\"lightblue\")\n",
    "plot.show()"
   ]
  },
  {
   "cell_type": "markdown",
   "metadata": {},
   "source": [
    "## UNSGA3"
   ]
  },
  {
   "cell_type": "code",
   "execution_count": 34,
   "metadata": {},
   "outputs": [
    {
     "data": {
      "text/plain": [
       "<pymoo.visualization.scatter.Scatter at 0x1ea8c6921f0>"
      ]
     },
     "execution_count": 34,
     "metadata": {},
     "output_type": "execute_result"
    },
    {
     "data": {
      "image/png": "[encoded data removed]",
      "text/plain": [
       "<Figure size 576x432 with 1 Axes>"
      ]
     },
     "metadata": {
      "needs_background": "light"
     },
     "output_type": "display_data"
    }
   ],
   "source": [
    "from pymoo.algorithms.unsga3 import UNSGA3\n",
    "#ref_dirs = get_reference_directions(, 2, n_partitions=23)\n",
    "\n",
    "algorithm = UNSGA3(pop_size=100, sampling=get_sampling(\"perm_random\"),\n",
    "                  crossover=get_crossover(\"perm_ox\"),\n",
    "                  mutation=get_mutation(\"perm_inv\"),\n",
    "                  eliminate_duplicates=True,\n",
    "                  ref_dirs=ref_dennis,\n",
    "                  normalization='front')\n",
    "res_UNSGA3 = minimize (problem, algorithm, Termination = (\"n_gen\", 200), seed = 1, verbose = False, save_history=True)\n",
    "plot = Scatter()\n",
    "plot.add(problem.pareto_front(), plot_type=\"line\", color=\"black\", alpha=0.7)\n",
    "plot.add(res_UNSGA3.F, color=\"pink\")\n",
    "plot.show()"
   ]
  },
  {
   "cell_type": "code",
   "execution_count": 35,
   "metadata": {},
   "outputs": [
    {
     "data": {
      "text/plain": [
       "<pymoo.visualization.scatter.Scatter at 0x1ea8c692400>"
      ]
     },
     "execution_count": 35,
     "metadata": {},
     "output_type": "execute_result"
    },
    {
     "data": {
      "image/png": "[encoded data removed]",
      "text/plain": [
       "<Figure size 576x432 with 1 Axes>"
      ]
     },
     "metadata": {
      "needs_background": "light"
     },
     "output_type": "display_data"
    }
   ],
   "source": [
    "from pymoo.algorithms.unsga3 import UNSGA3\n",
    "#ref_points = get_reference_directions(\"das-dennis\", 2, n_partitions=90)\n",
    "algorithm = UNSGA3(pop_size=100, sampling=get_sampling(\"perm_random\"),\n",
    "                  crossover=get_crossover(\"perm_ox\"),\n",
    "                  mutation=get_mutation(\"perm_inv\"),\n",
    "                  eliminate_duplicates=True,\n",
    "                  ref_dirs=ref_energy,\n",
    "                  normalization='front')\n",
    "res_UNSGA3_new = minimize (problem, algorithm, Termination = (\"n_gen\", 200), seed = 1, verbose = False, save_history=True)\n",
    "plot = Scatter()\n",
    "plot.add(problem.pareto_front(), plot_type=\"line\", color=\"black\", alpha=0.7)\n",
    "plot.add(res_UNSGA3_new.F, color=\"pink\")\n",
    "#plot.add(problem.pareto_front(), plot_type=\"line\", color=\"black\", alpha=0.7)\n",
    "plot.add(res_UNSGA3.F, color=\"darkred\")\n",
    "plot.show()"
   ]
  },
  {
   "cell_type": "markdown",
   "metadata": {},
   "source": [
    "## Convergency"
   ]
  },
  {
   "cell_type": "code",
   "execution_count": 13,
   "metadata": {},
   "outputs": [
    {
     "data": {
      "image/png": "[encoded data removed]",
      "text/plain": [
       "<Figure size 432x288 with 1 Axes>"
      ]
     },
     "metadata": {
      "needs_background": "light"
     },
     "output_type": "display_data"
    }
   ],
   "source": [
    "\n",
    "import matplotlib.pyplot as plt\n",
    "\n",
    "ret_unsga3 = [np.min(e.pop.get(\"F\")) for e in res_UNSGA3.history]\n",
    "ret_NSGA3 = [np.min(e.pop.get(\"F\")) for e in res_NSGA3.history]\n",
    "ret_NSGA2 = [np.min(e.pop.get(\"F\")) for e in res_NSGA2.history]\n",
    "ret_RNSGA2 = [np.min(e.pop.get(\"F\")) for e in res_RNSGA2.history]\n",
    "\n",
    "plt.plot(np.arange(len(ret_unsga3)), ret_unsga3, label=\"UNSGA3\")\n",
    "plt.plot(np.arange(len(ret_NSGA3)), ret_NSGA3, label=\"NSGA3\")\n",
    "plt.plot(np.arange(len(ret_NSGA2)), ret_NSGA2, label=\"NSGA2\")\n",
    "plt.plot(np.arange(len(ret_RNSGA2)), ret_RNSGA2, label=\"RNSGA2\")\n",
    "plt.title(\"Convergence\")\n",
    "plt.xlabel(\"Generation\")\n",
    "plt.ylabel(\"F\")\n",
    "plt.legend()\n",
    "plt.show()"
   ]
  },
  {
   "cell_type": "markdown",
   "metadata": {},
   "source": [
    "## Pareto front comparison"
   ]
  },
  {
   "cell_type": "code",
   "execution_count": 15,
   "metadata": {},
   "outputs": [
    {
     "name": "stderr",
     "output_type": "stream",
     "text": [
      "No handles with labels found to put in legend.\n"
     ]
    },
    {
     "data": {
      "text/plain": [
       "<pymoo.visualization.scatter.Scatter at 0x28ece810670>"
      ]
     },
     "execution_count": 15,
     "metadata": {},
     "output_type": "execute_result"
    },
    {
     "data": {
      "image/png": "[encoded data removed]",
      "text/plain": [
       "<Figure size 432x288 with 1 Axes>"
      ]
     },
     "metadata": {
      "needs_background": "light"
     },
     "output_type": "display_data"
    },
    {
     "data": {
      "image/png": "[encoded data removed]",
      "text/plain": [
       "<Figure size 576x432 with 1 Axes>"
      ]
     },
     "metadata": {
      "needs_background": "light"
     },
     "output_type": "display_data"
    }
   ],
   "source": [
    "plot = Scatter()\n",
    "plot.add(problem.pareto_front(), plot_type=\"line\", color=\"black\", alpha=0.7)\n",
    "plot.add(res_UNSGA3.F, color=\"pink\", label=\"UNSGA3\")\n",
    "plot.add(res_NSGA3.F, color=\"blue\", label=\"NSGA3\")\n",
    "plot.add(res_RNSGA2.F, color=\"Orange\", label=\"RNSGA2\")\n",
    "plot.add(res_NSGA2.F, color=\"red\", label=\"NSGA2\")\n",
    "plt.legend()\n",
    "plot.show()"
   ]
  },
  {
   "cell_type": "code",
   "execution_count": 43,
   "metadata": {},
   "outputs": [
    {
     "data": {
      "text/plain": [
       "<pymoo.visualization.scatter.Scatter at 0x22595f483d0>"
      ]
     },
     "execution_count": 43,
     "metadata": {},
     "output_type": "execute_result"
    },
    {
     "data": {
      "image/png": "[encoded data removed]",
      "text/plain": [
       "<Figure size 576x432 with 1 Axes>"
      ]
     },
     "metadata": {
      "needs_background": "light"
     },
     "output_type": "display_data"
    }
   ],
   "source": [
    "from pymoo.algorithms.rnsga3 import RNSGA3\n",
    "\n",
    "# Define reference points\n",
    "ref_points = get_reference_directions(\"das-dennis\", 2, n_partitions=12)\n",
    "\n",
    "# Get Algorithm\n",
    "algorithm = RNSGA3(ref_points = ref_points, pop_per_ref_point = 100,\n",
    "                   sampling=get_sampling(\"perm_random\"),\n",
    "                   crossover=get_crossover(\"perm_ox\"),\n",
    "                   mutation=get_mutation(\"perm_inv\"),\n",
    "                   eliminate_duplicates=True)\n",
    "res = minimizeres_UNSGA3 = minimize (problem, algorithm, Termination = (\"n_gen\", 200), seed = 1, verbose = False, save_history=True)\n",
    "\n",
    "reference_directions = res.algorithm.survival.ref_dirs\n",
    "\n",
    "plt = Scatter()\n",
    "plt.add(problem.pareto_front(), plot_type=\"line\", color=\"black\", alpha=0.7)\n",
    "plt.add(res.F, color=\"lightblue\")\n",
    "#plt.add(ref_points)\n",
    "plt.show()"
   ]
  },
  {
   "cell_type": "code",
   "execution_count": 41,
   "metadata": {},
   "outputs": [
    {
     "data": {
      "text/plain": [
       "<pymoo.visualization.scatter.Scatter at 0x225872e2b80>"
      ]
     },
     "execution_count": 41,
     "metadata": {},
     "output_type": "execute_result"
    },
    {
     "data": {
      "image/png": "[encoded data removed]",
      "text/plain": [
       "<Figure size 576x432 with 1 Axes>"
      ]
     },
     "metadata": {
      "needs_background": "light"
     },
     "output_type": "display_data"
    }
   ],
   "source": [
    "from pymoo.algorithms.moead import MOEAD\n",
    "algorithm = MOEAD(get_reference_directions(\"das-dennis\", 2, n_partitions=99), \n",
    "                  n_neighbors=20,\n",
    "                  decomposition=\"pbi\",\n",
    "                  prob_neighbor_mating=0.7,pop_size = 100,seed=1,sampling=get_sampling(\"perm_random\"),\n",
    "                  crossover=get_crossover(\"perm_ox\"),mutation=get_mutation(\"perm_inv\"),eliminate_duplicates=True)\n",
    "\n",
    "res_MOEAD = minimize(problem, algorithm, termination=('n_gen', 200), verbose = False, save_history=True)\n",
    "plt = Scatter()\n",
    "plt.add(problem.pareto_front(), plot_type=\"line\", color=\"black\", alpha=0.7)\n",
    "plt.add(res_MOEAD.F, color=\"darkgreen\")\n",
    "#plt.add(ref_points)\n",
    "plt.show()"
   ]
  },
  {
   "cell_type": "code",
   "execution_count": 48,
   "metadata": {},
   "outputs": [
    {
     "data": {
      "text/plain": [
       "<pymoo.visualization.scatter.Scatter at 0x2259c5abfa0>"
      ]
     },
     "execution_count": 48,
     "metadata": {},
     "output_type": "execute_result"
    },
    {
     "data": {
      "image/png": "[encoded data removed]",
      "text/plain": [
       "<Figure size 576x432 with 1 Axes>"
      ]
     },
     "metadata": {
      "needs_background": "light"
     },
     "output_type": "display_data"
    }
   ],
   "source": [
    "from pymoo.algorithms.ctaea import CTAEA\n",
    "\n",
    "ref_dirs = get_reference_directions(\"das-dennis\", 2, n_partitions=100)\n",
    "\n",
    "algorithm = CTAEA(sampling=get_sampling(\"perm_random\"),\n",
    "                  crossover=get_crossover(\"perm_ox\"),\n",
    "                  mutation=get_mutation(\"perm_inv\"),\n",
    "                  eliminate_duplicates=True,\n",
    "                  ref_dirs=ref_dirs)\n",
    "res_CTAEA = minimize(problem, algorithm, termination=('n_gen', 200), verbose = False, save_history=True)\n",
    "plt = Scatter()\n",
    "plt.add(problem.pareto_front(), plot_type=\"line\", color=\"black\", alpha=0.7)\n",
    "plt.add(res_CTAEA.F, color=\"coral\")\n",
    "#plt.add(ref_points)\n",
    "plt.show()"
   ]
  },
  {
   "cell_type": "code",
   "execution_count": 61,
   "metadata": {},
   "outputs": [
    {
     "name": "stdout",
     "output_type": "stream",
     "text": [
      "Best solution found: \n",
      "X = [[ 4.92336711 22.21442317 14.31585308 ... 14.1483967  21.56462489\n",
      "   1.59971203]\n",
      " [ 4.92336711 22.21442317 14.31585308 ... 14.1483967  21.56462489\n",
      "   1.59971203]\n",
      " [ 5.26127367 22.06482324 14.4028412  ... 14.48769074 21.52144619\n",
      "   2.00869487]\n",
      " ...\n",
      " [ 5.19365631 22.18144183 14.08330572 ... 13.61435703 22.55271907\n",
      "   0.50765335]\n",
      " [ 4.32387261 22.01436921 14.39400316 ... 13.94509317 21.17589124\n",
      "   2.35056236]\n",
      " [ 4.684224   22.54825408 14.10697072 ... 13.52604517 21.87645165\n",
      "   1.55754106]]\n"
     ]
    }
   ],
   "source": [
    "from pymoo.algorithms.so_cmaes import CMAES\n",
    "from pymoo.util.normalization import denormalize\n",
    "\n",
    "algorithm = CMAES(x0=denormalize(np.random.random(problem.n_var), problem.xl, problem.xu),\n",
    "                 sigma=0.5,\n",
    "                 restarts=2,\n",
    "                 maxfevals=np.inf,\n",
    "                 tolfun=1e-6,\n",
    "                 tolx=1e-6,\n",
    "                 restart_from_best=True,\n",
    "                 bipop=True)\n",
    "res_CMAES = minimize(problem, algorithm, termination=('n_gen', 200), verbose = False, save_history=True)\n",
    "print(\"Best solution found: \\nX = %s\" % (res_CMAES.X))"
   ]
  },
  {
   "cell_type": "code",
   "execution_count": null,
   "metadata": {},
   "outputs": [],
   "source": []
  }
 ],
 "metadata": {
  "kernelspec": {
   "display_name": "Python 3",
   "language": "python",
   "name": "python3"
  },
  "language_info": {
   "codemirror_mode": {
    "name": "ipython",
    "version": 3
   },
   "file_extension": ".py",
   "mimetype": "text/x-python",
   "name": "python",
   "nbconvert_exporter": "python",
   "pygments_lexer": "ipython3",
   "version": "3.8.5"
  }
 },
 "nbformat": 4,
 "nbformat_minor": 4
}
