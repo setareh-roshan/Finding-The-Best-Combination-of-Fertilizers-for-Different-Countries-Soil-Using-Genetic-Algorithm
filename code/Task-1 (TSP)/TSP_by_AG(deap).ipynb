{
  "nbformat": 4,
  "nbformat_minor": 0,
  "metadata": {
    "colab": {
      "name": "TSP by AG(deap)",
      "provenance": []
    },
    "kernelspec": {
      "name": "python3",
      "display_name": "Python 3"
    },
    "language_info": {
      "name": "python"
    }
  },
  "cells": [
    {
      "cell_type": "code",
      "metadata": {
        "id": "wpnE7favF3YH"
      },
      "source": [
        ""
      ],
      "execution_count": 1,
      "outputs": []
    },
    {
      "cell_type": "code",
      "metadata": {
        "colab": {
          "base_uri": "https://localhost:8080/"
        },
        "id": "Ui98f2mENWfV",
        "outputId": "d06d55cc-dbd2-4cc5-fdde-6c38fcc11750"
      },
      "source": [
        "pip install deap"
      ],
      "execution_count": 3,
      "outputs": [
        {
          "output_type": "stream",
          "text": [
            "Collecting deap\n",
            "\u001b[?25l  Downloading https://files.pythonhosted.org/packages/99/d1/803c7a387d8a7e6866160b1541307f88d534da4291572fb32f69d2548afb/deap-1.3.1-cp37-cp37m-manylinux2010_x86_64.whl (157kB)\n",
            "\r\u001b[K     |██                              | 10kB 21.6MB/s eta 0:00:01\r\u001b[K     |████▏                           | 20kB 16.8MB/s eta 0:00:01\r\u001b[K     |██████▏                         | 30kB 12.6MB/s eta 0:00:01\r\u001b[K     |████████▎                       | 40kB 11.8MB/s eta 0:00:01\r\u001b[K     |██████████▍                     | 51kB 7.2MB/s eta 0:00:01\r\u001b[K     |████████████▍                   | 61kB 8.4MB/s eta 0:00:01\r\u001b[K     |██████████████▌                 | 71kB 9.1MB/s eta 0:00:01\r\u001b[K     |████████████████▋               | 81kB 9.3MB/s eta 0:00:01\r\u001b[K     |██████████████████▋             | 92kB 9.8MB/s eta 0:00:01\r\u001b[K     |████████████████████▊           | 102kB 7.5MB/s eta 0:00:01\r\u001b[K     |██████████████████████▉         | 112kB 7.5MB/s eta 0:00:01\r\u001b[K     |████████████████████████▉       | 122kB 7.5MB/s eta 0:00:01\r\u001b[K     |███████████████████████████     | 133kB 7.5MB/s eta 0:00:01\r\u001b[K     |█████████████████████████████   | 143kB 7.5MB/s eta 0:00:01\r\u001b[K     |███████████████████████████████ | 153kB 7.5MB/s eta 0:00:01\r\u001b[K     |████████████████████████████████| 163kB 7.5MB/s \n",
            "\u001b[?25hRequirement already satisfied: numpy in /usr/local/lib/python3.7/dist-packages (from deap) (1.19.5)\n",
            "Installing collected packages: deap\n",
            "Successfully installed deap-1.3.1\n"
          ],
          "name": "stdout"
        }
      ]
    },
    {
      "cell_type": "code",
      "metadata": {
        "id": "TRQG4p2ZNoWC"
      },
      "source": [
        "from matplotlib import pyplot as plt\n",
        "import random\n",
        "from deap import creator, base, tools, algorithms\n",
        "import numpy as np\n",
        "import time\n",
        "from shapely.geometry import Point\n",
        "\n",
        "random.seed(123)"
      ],
      "execution_count": 27,
      "outputs": []
    },
    {
      "cell_type": "code",
      "metadata": {
        "id": "YuAlBKpGN2Tu"
      },
      "source": [
        "# City Options\n",
        "NUM_CITIES = 15\n",
        "MAX_X = 100\n",
        "MAX_Y = 100\n",
        "\n",
        "# Algorithm Options\n",
        "POPULATION_SIZE = 300\n",
        "MUTATION_RATIO = 0.1\n",
        "CROSSOVER_RATIO = 0.5\n",
        "NGEN = 40"
      ],
      "execution_count": 28,
      "outputs": []
    },
    {
      "cell_type": "code",
      "metadata": {
        "id": "xo7plfAON5sr"
      },
      "source": [
        "# Generate Random Cities\n",
        "cities = []\n",
        "for i in range(NUM_CITIES):\n",
        "    cities.append(Point(random.randint(0, 100), random.randint(0, 100)))"
      ],
      "execution_count": 30,
      "outputs": []
    },
    {
      "cell_type": "code",
      "metadata": {
        "colab": {
          "base_uri": "https://localhost:8080/",
          "height": 295
        },
        "id": "-xJ3K38sOChl",
        "outputId": "b0bd4963-4c0f-41a3-8188-2c14811f3f0d"
      },
      "source": [
        "# Visualize Cities\n",
        "plt.scatter([c.x for c in cities], [c.y for c in cities])\n",
        "\n",
        "plt.xlabel(\"x\")\n",
        "plt.ylabel(\"y\")\n",
        "\n",
        "plt.title(\"Traveling Salesman - Random City Distribution\")\n",
        "plt.savefig(\"salesman.png\")"
      ],
      "execution_count": 32,
      "outputs": [
        {
          "output_type": "display_data",
          "data": {
            "image/png": "[encoded data removed]",
            "text/plain": [
              "<Figure size 432x288 with 1 Axes>"
            ]
          },
          "metadata": {
            "tags": [],
            "needs_background": "light"
          }
        }
      ]
    },
    {
      "cell_type": "markdown",
      "metadata": {
        "id": "t4jnKVo6xlBn"
      },
      "source": [
        "Define Initialization, Fitness Function, Mating and Mutation"
      ]
    },
    {
      "cell_type": "code",
      "metadata": {
        "id": "2oimPOeDxkFc"
      },
      "source": [
        "\n",
        "# Chromosome initialization: Random order of town indices\n",
        "def ini_salesman(container, num_cities):\n",
        "    basic_plan = list(range(num_cities))\n",
        "    random.shuffle(basic_plan)\n",
        "    return container(basic_plan)"
      ],
      "execution_count": 33,
      "outputs": []
    },
    {
      "cell_type": "code",
      "metadata": {
        "id": "fzYFDGpoxwC2"
      },
      "source": [
        "test = ini_salesman(list, 10)"
      ],
      "execution_count": 34,
      "outputs": []
    },
    {
      "cell_type": "code",
      "metadata": {
        "id": "63v7xEL5x0I3"
      },
      "source": [
        "# Fitness Function: Total path length\n",
        "def calc_distance(travel_plan, cities):\n",
        "    dist = 0\n",
        "    for i, e in enumerate(travel_plan):\n",
        "        if i!= len(cities)-1:\n",
        "            origin = cities[e]\n",
        "            destination = cities[travel_plan[i+1]]\n",
        "        else:\n",
        "            # Return home\n",
        "            origin = cities[e]\n",
        "            destination = cities[travel_plan[0]]\n",
        "        dist += origin.distance(destination)\n",
        "    return dist,"
      ],
      "execution_count": 35,
      "outputs": []
    },
    {
      "cell_type": "code",
      "metadata": {
        "id": "hr9kiXNhx4WW"
      },
      "source": [
        "# Mutation: Switch two random positions of the travel plan\n",
        "def mutate_travel_plan(travel_plan):\n",
        "    \n",
        "    # Determine indices to be switched\n",
        "    idx_1 = random.choice(list(range(len(travel_plan))))\n",
        "    idx_2 = random.choice(list(range(len(travel_plan))))\n",
        "    \n",
        "    # Switch indices\n",
        "    travel_plan[idx_1], travel_plan[idx_2] = travel_plan[idx_2], travel_plan[idx_1]\n",
        "    \n",
        "    return travel_plan,"
      ],
      "execution_count": 36,
      "outputs": []
    },
    {
      "cell_type": "code",
      "metadata": {
        "id": "3QBrCBqBx8yV"
      },
      "source": [
        "# Mating two travel plans to generate one child: Retain x consecutive city ids of tp_1 and fill with tp_2 order\n",
        "# Example:\n",
        "# tp_1: [0,1,2,3,4,5]\n",
        "# tp_2: [3,2,1,5,0,4]\n",
        "# Retain: [1,2,3]\n",
        "# Child: [5,1,2,3,0,4]\n",
        "def mate_travel_plans_single(tp_1, tp_2):\n",
        "    \n",
        "    N = len(tp_1)\n",
        "    \n",
        "    idx_1 = random.choice(list(range(N)))\n",
        "    idx_2 = random.choice(list(range(N)))\n",
        "    \n",
        "    idx_start = min(idx_1, idx_2)\n",
        "    idx_stop = max(idx_1, idx_2)\n",
        "    \n",
        "    if idx_start==idx_stop:\n",
        "        if idx_start > 0:\n",
        "            idx_start = idx_start-1\n",
        "        else:\n",
        "            idx_stop = idx_stop+1\n",
        "    \n",
        "    retain_sequence = tp_1[idx_start:idx_stop+1]\n",
        "    substitute_values = [i for i in tp_2 if i not in retain_sequence]\n",
        "    substitute_places = [i for i in list(range(N)) if i<idx_start or i>idx_stop]\n",
        "    \n",
        "    for i in substitute_places:\n",
        "        tp_1[i] = substitute_values.pop(0)\n",
        "    \n",
        "    return tp_1"
      ],
      "execution_count": 37,
      "outputs": []
    },
    {
      "cell_type": "code",
      "metadata": {
        "colab": {
          "base_uri": "https://localhost:8080/"
        },
        "id": "9zsMDFOtybQ6",
        "outputId": "3fb786b0-939a-41f8-e083-7f2f742ea795"
      },
      "source": [
        "# Test function\n",
        "mate_travel_plans_single([0,1,2,3,4,5], [3,2,1,5,0,4])"
      ],
      "execution_count": 38,
      "outputs": [
        {
          "output_type": "execute_result",
          "data": {
            "text/plain": [
              "[2, 1, 5, 3, 4, 0]"
            ]
          },
          "metadata": {
            "tags": []
          },
          "execution_count": 38
        }
      ]
    },
    {
      "cell_type": "code",
      "metadata": {
        "id": "XKFK1hHjyhPG"
      },
      "source": [
        "def mate_travel_plans(tp_1, tp_2):\n",
        "    ind1 = mate_travel_plans_single(tp_1, tp_2)\n",
        "    ind2 = mate_travel_plans_single(tp_1, tp_2)\n",
        "    return ind1, ind2"
      ],
      "execution_count": 39,
      "outputs": []
    },
    {
      "cell_type": "code",
      "metadata": {
        "id": "DoBVbboyyl4R"
      },
      "source": [
        "# Define classes\n",
        "# Create a class \"total_distance\". Define it as a fitness. Fitness shall be minimized (-1)\n",
        "creator.create(\"total_distance\", base.Fitness, weights=(-1.0,))\n",
        "\n",
        "# Create a class \"Individual\" containing a list and assign a fitness of type \"travel_distance\"\n",
        "creator.create(\"Individual\", list, fitness=creator.total_distance) \n",
        "\n",
        "# Open a new toolbox\n",
        "toolbox = base.Toolbox()\n",
        "\n",
        "# Register an \"individual\" to be of class \"Individual\". Initialize it with the ini_salesman function. Pass necessary values\n",
        "toolbox.register(\"individual\", ini_salesman, creator.Individual, num_cities=NUM_CITIES)\n",
        "\n",
        "# Register a \"population\" and initialize it with a list of \"individual\" objects\n",
        "toolbox.register(\"population\", tools.initRepeat, list, toolbox.individual)\n",
        "\n",
        "# Register a fitness function called \"travel_distance\" and assign an evaluation function (calc_distance) to it\n",
        "toolbox.register(\"travel_distance\", calc_distance, cities=cities)\n",
        "\n",
        "# Register functions for mating, mutating and selecting\n",
        "toolbox.register(\"mate\", mate_travel_plans)\n",
        "toolbox.register(\"mutate\", mutate_travel_plan)\n",
        "#toolbox.register(\"mutate\", tools.mutShuffleIndexes, indpb=0.01)\n",
        "toolbox.register(\"select\", tools.selTournament, tournsize=10)"
      ],
      "execution_count": 40,
      "outputs": []
    },
    {
      "cell_type": "code",
      "metadata": {
        "id": "USUYqzoQyp7T"
      },
      "source": [
        "# Generate intial population\n",
        "population = toolbox.population(n=POPULATION_SIZE)"
      ],
      "execution_count": 42,
      "outputs": []
    },
    {
      "cell_type": "code",
      "metadata": {
        "colab": {
          "base_uri": "https://localhost:8080/"
        },
        "id": "iR6EICmQywzs",
        "outputId": "a94aefb7-76ab-4356-bdb0-9c2ecfcecb25"
      },
      "source": [
        "for gen in range(NGEN):\n",
        "    print(\"Calculating generation {} of {}\".format(gen+1,NGEN))\n",
        "    \n",
        "    # Retrieve all new offsprings generated by mutation and crossover (mating)\n",
        "    offspring = algorithms.varAnd(population, toolbox, cxpb=0.5, mutpb=MUTATION_RATIO)\n",
        "    \n",
        "    # For each individual in the toolbox that has not been evaluated before, evaluate the fitness\n",
        "    fits = toolbox.map(toolbox.travel_distance, offspring)\n",
        "    \n",
        "    # Assign fitness values to individuals\n",
        "    for fit, ind in zip(fits, offspring):\n",
        "        ind.fitness.values = fit\n",
        "        \n",
        "    # Create new population\n",
        "    population = toolbox.select(offspring, k=len(population))"
      ],
      "execution_count": 43,
      "outputs": [
        {
          "output_type": "stream",
          "text": [
            "Calculating generation 1 of 40\n",
            "Calculating generation 2 of 40\n",
            "Calculating generation 3 of 40\n",
            "Calculating generation 4 of 40\n",
            "Calculating generation 5 of 40\n",
            "Calculating generation 6 of 40\n",
            "Calculating generation 7 of 40\n",
            "Calculating generation 8 of 40\n",
            "Calculating generation 9 of 40\n",
            "Calculating generation 10 of 40\n",
            "Calculating generation 11 of 40\n",
            "Calculating generation 12 of 40\n",
            "Calculating generation 13 of 40\n",
            "Calculating generation 14 of 40\n",
            "Calculating generation 15 of 40\n",
            "Calculating generation 16 of 40\n",
            "Calculating generation 17 of 40\n",
            "Calculating generation 18 of 40\n",
            "Calculating generation 19 of 40\n",
            "Calculating generation 20 of 40\n",
            "Calculating generation 21 of 40\n",
            "Calculating generation 22 of 40\n",
            "Calculating generation 23 of 40\n",
            "Calculating generation 24 of 40\n",
            "Calculating generation 25 of 40\n",
            "Calculating generation 26 of 40\n",
            "Calculating generation 27 of 40\n",
            "Calculating generation 28 of 40\n",
            "Calculating generation 29 of 40\n",
            "Calculating generation 30 of 40\n",
            "Calculating generation 31 of 40\n",
            "Calculating generation 32 of 40\n",
            "Calculating generation 33 of 40\n",
            "Calculating generation 34 of 40\n",
            "Calculating generation 35 of 40\n",
            "Calculating generation 36 of 40\n",
            "Calculating generation 37 of 40\n",
            "Calculating generation 38 of 40\n",
            "Calculating generation 39 of 40\n",
            "Calculating generation 40 of 40\n"
          ],
          "name": "stdout"
        }
      ]
    },
    {
      "cell_type": "code",
      "metadata": {
        "id": "BYdEUHeSy127"
      },
      "source": [
        "\n",
        "winner = tools.selBest(population, k=1)"
      ],
      "execution_count": 44,
      "outputs": []
    },
    {
      "cell_type": "code",
      "metadata": {
        "colab": {
          "base_uri": "https://localhost:8080/"
        },
        "id": "dv-8LXpwy4vt",
        "outputId": "493f193c-3c0e-4a4a-82a4-9a1541f0dc6b"
      },
      "source": [
        "\n",
        "winner "
      ],
      "execution_count": 45,
      "outputs": [
        {
          "output_type": "execute_result",
          "data": {
            "text/plain": [
              "[[1, 9, 8, 4, 2, 5, 13, 12, 6, 10, 7, 3, 14, 0, 11]]"
            ]
          },
          "metadata": {
            "tags": []
          },
          "execution_count": 45
        }
      ]
    },
    {
      "cell_type": "code",
      "metadata": {
        "colab": {
          "base_uri": "https://localhost:8080/",
          "height": 281
        },
        "id": "vVUWHiyLy8kW",
        "outputId": "4d93167c-4026-49ff-8a76-a2d429a8c639"
      },
      "source": [
        "# Visualize Result\n",
        "cities_ordered = [cities[e] for e in winner[0]]\n",
        "X = [c.x for c in cities_ordered]+[cities_ordered[0].x]\n",
        "Y = [c.y for c in cities_ordered]+[cities_ordered[0].y]\n",
        "plt.plot(X,Y, marker = \"o\", markerfacecolor='red')\n",
        "plt.title(\"Optimized Route\")\n",
        "plt.savefig(\"salesman_solution.png\")"
      ],
      "execution_count": 46,
      "outputs": [
        {
          "output_type": "display_data",
          "data": {
            "image/png": "[encoded data removed]",
            "text/plain": [
              "<Figure size 432x288 with 1 Axes>"
            ]
          },
          "metadata": {
            "tags": [],
            "needs_background": "light"
          }
        }
      ]
    }
  ]
}